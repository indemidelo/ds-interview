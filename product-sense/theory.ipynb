{
 "cells": [
  {
   "cell_type": "markdown",
   "metadata": {},
   "source": [
    "# Product Sense Theory\n",
    "\n",
    "## 1. Ingredients\n",
    "1. <ins>Empathy</ins> knowing what the user wants\n",
    "2. <ins>Domain knowledge</ins> ability to understand what makes a product great\n",
    "3. <ins>Creativity</ins> ability to find a solution to situations/problems\n",
    "4. <ins>Business value</ins> ability to build for value"
   ]
  },
  {
   "cell_type": "markdown",
   "metadata": {},
   "source": [
    "---"
   ]
  },
  {
   "cell_type": "markdown",
   "metadata": {},
   "source": [
    "## 2. Product Sense Structure\n",
    "0. Pre-interview questions\n",
    "1. Company's mission/strategy and why the need of the new product (for new products)\n",
    "2. User Segments\n",
    "3. Pinpoints and Brainstorming solutions\n",
    "4. Giving a vision of the product"
   ]
  },
  {
   "cell_type": "markdown",
   "metadata": {},
   "source": [
    "### 2.0 Pre-interview questions\n",
    "* Are there specific *goals* to improve the product? For example increase revenue, increase userbase or user engagement\n",
    "* Are there specific *user segments* to target?"
   ]
  },
  {
   "cell_type": "markdown",
   "metadata": {},
   "source": [
    "### 2.1 Company's mission\n",
    "For example, Facebook's mission is to build community all around the world to connect people with each others.\n",
    "\n",
    "The precise words are: *to give people the power to build community and bring the world closer together*."
   ]
  },
  {
   "cell_type": "markdown",
   "metadata": {},
   "source": [
    "### 2.2 User Segments\n",
    "0. Write down the user segments\n",
    "1. List them\n",
    "2. Briefly describe them and why you individuate them\n",
    "3. Relist them, ask the interview if they agree and pass to the next step"
   ]
  },
  {
   "cell_type": "markdown",
   "metadata": {},
   "source": [
    "### 2.3 Pinpoints\n",
    "Possibly choose a single user segment, according with the interviewer.\n",
    "For each user segment found, address the weak points and the reasons why the improvemend shall succeed.\n",
    "List each of them before, give more details and then repeat the list: \"Summarizing, the weak point to address are...\"."
   ]
  },
  {
   "cell_type": "markdown",
   "metadata": {},
   "source": [
    "### 2.4 Brainstorming Solutions\n",
    "Usually with pinpoints: elaborate each of them."
   ]
  },
  {
   "cell_type": "markdown",
   "metadata": {},
   "source": [
    "### 2.5 Giving a vision\n",
    "Choose a pinpoint to expand and drill down the improvement to the product.\n",
    "Provide a metric to evaluate the success of the product."
   ]
  }
 ],
 "metadata": {
  "kernelspec": {
   "display_name": "Python 3",
   "language": "python",
   "name": "python3"
  },
  "language_info": {
   "codemirror_mode": {
    "name": "ipython",
    "version": 3
   },
   "file_extension": ".py",
   "mimetype": "text/x-python",
   "name": "python",
   "nbconvert_exporter": "python",
   "pygments_lexer": "ipython3",
   "version": "3.7.3"
  }
 },
 "nbformat": 4,
 "nbformat_minor": 2
}
