{
 "cells": [
  {
   "cell_type": "markdown",
   "metadata": {},
   "source": [
    "### Assumptions of logistic regression"
   ]
  },
  {
   "cell_type": "markdown",
   "metadata": {},
   "source": [
    "Logistic regression does not require:\n",
    "1. a linear relationship between the dependent and independent variables\n",
    "2. the error term to be normally distributed\n",
    "3. homoscedasticity"
   ]
  },
  {
   "cell_type": "markdown",
   "metadata": {},
   "source": [
    "However, some other assumptions still apply:\n",
    "1. the dependent variable is required to be binary (and in ordinal logistic regression is required to be ordinal)\n",
    "2. the observations are required to be independent of each other\n",
    "3. little or no multicollinearity among the independent variables\n",
    "4. linearity of independent variables and log odds (like linearity for linear regression...). The formula is\n",
    "$$ l = \\log{\\frac{p}{1-p}} = \\beta_{0} + \\beta_{1}x$$ \n",
    "where $p$ is the probability that the response variable takes value 1: \n",
    "$$p = P\\{Y=1\\}$$ \n",
    "By simple algebric manipulations, the probability that $Y=1$ is \n",
    "$$p = \\frac{1}{1 + e^{-(\\beta_{0} + \\beta_{1}x)}}$$"
   ]
  }
 ],
 "metadata": {
  "kernelspec": {
   "display_name": "Python 3",
   "language": "python",
   "name": "python3"
  },
  "language_info": {
   "codemirror_mode": {
    "name": "ipython",
    "version": 3
   },
   "file_extension": ".py",
   "mimetype": "text/x-python",
   "name": "python",
   "nbconvert_exporter": "python",
   "pygments_lexer": "ipython3",
   "version": "3.7.3"
  }
 },
 "nbformat": 4,
 "nbformat_minor": 2
}
