{
 "cells": [
  {
   "cell_type": "markdown",
   "metadata": {},
   "source": [
    "# Funzioni di `pandas` a caso"
   ]
  },
  {
   "cell_type": "markdown",
   "metadata": {},
   "source": [
    "### Sottinsieme di colonne adiacenti\n",
    "\n",
    "    >> df.loc[:, 'col1':'col13']\n",
    "---"
   ]
  },
  {
   "cell_type": "markdown",
   "metadata": {},
   "source": [
    "### Join è merge\n",
    "\n",
    "    >> pd.merge(left=data1, right=data2, how='inner', on='col')\n",
    "---"
   ]
  },
  {
   "cell_type": "markdown",
   "metadata": {},
   "source": [
    "### Caricare una data\n",
    "\n",
    "    >> pd.read_csv(data_url, parse_dates=[[0, 1, 2]])\n",
    "0 = indice colonna dell'anno\n",
    "1 = indice colonna del mese\n",
    "2 = indice colonna del giorno\n",
    "\n",
    "---"
   ]
  },
  {
   "cell_type": "markdown",
   "metadata": {},
   "source": [
    "Sistemare le date è importante in fase di munging! Vedi esercizio 06_Stats/Wind...\n",
    "\n",
    "---"
   ]
  },
  {
   "cell_type": "markdown",
   "metadata": {},
   "source": [
    "### Raggruppo per anno/mese/giorno\n",
    "    >> data.groupby(data.col.to_period('A')).mean()\n",
    "`data.col` è un oggetto `pd.datetime64`\n",
    "\n",
    "---"
   ]
  },
  {
   "cell_type": "markdown",
   "metadata": {},
   "source": [
    "### Disegnare istogrammi\n",
    "    >> df.plot(kind='bar')\n",
    "`df` è una Serie di \"altezze\" degli istogrammi\n",
    "\n",
    "---"
   ]
  },
  {
   "cell_type": "markdown",
   "metadata": {},
   "source": [
    "### Dimensioni e colori dei pallozzi\n",
    "    >> plt.scatter(datax, datay, s=<raggio pallozzi>, c=<colore pallozzi>)\n",
    "Funzionano come `col` in R\n",
    "\n",
    "---"
   ]
  },
  {
   "cell_type": "markdown",
   "metadata": {},
   "source": [
    "### Super **scatterplot** per confronti come in R\n",
    "    >> import seaborn as sns\n",
    "    >> sns.pairplot(df)\n",
    "`df` contiene tutte le variabili categoriche e numeriche.\n",
    "\n",
    "Rileggere tutto il tutorial su `seaborn` in 07_Vis/Tips\n",
    "\n",
    "---"
   ]
  },
  {
   "cell_type": "markdown",
   "metadata": {},
   "source": [
    "### Capire se una colonna ha dei duplicati\n",
    "    >> df.col.is_unique\n",
    "---"
   ]
  },
  {
   "cell_type": "markdown",
   "metadata": {},
   "source": [
    "### Cambiare la frequenza di campionamento del dataframe\n",
    "    >> df.resample(\"M\").sum()\n",
    "`M` è il mese. Il risultato di `resample` è un groupby, quindi dopo metto `.sum()`\n",
    "\n",
    "---"
   ]
  },
  {
   "cell_type": "markdown",
   "metadata": {},
   "source": [
    "### Dopo che cancello delle righe, sempre meglio resettare l'indice!\n",
    "    >> df.reset_index(drop=False)\n",
    "---"
   ]
  }
 ],
 "metadata": {
  "kernelspec": {
   "display_name": "Python 3",
   "language": "python",
   "name": "python3"
  },
  "language_info": {
   "codemirror_mode": {
    "name": "ipython",
    "version": 3
   },
   "file_extension": ".py",
   "mimetype": "text/x-python",
   "name": "python",
   "nbconvert_exporter": "python",
   "pygments_lexer": "ipython3",
   "version": "3.7.3"
  }
 },
 "nbformat": 4,
 "nbformat_minor": 2
}
