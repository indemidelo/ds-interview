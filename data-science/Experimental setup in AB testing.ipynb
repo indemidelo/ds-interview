{
 "cells": [
  {
   "cell_type": "markdown",
   "metadata": {},
   "source": [
    "### Proportion Test"
   ]
  },
  {
   "cell_type": "markdown",
   "metadata": {},
   "source": [
    "Same as usual, testing the null hypothesis of a proportion of individuals in a population who have a certain trait.\n",
    "\n",
    "##### Point Estimate\n",
    "This time the sampled proportion is $$\\hat{p}=\\frac{x}{n}$$ where $x$ is the number of individuals with the trait and $n$ the size of the sample."
   ]
  },
  {
   "cell_type": "markdown",
   "metadata": {},
   "source": [
    "##### Hypothesis testing:\n",
    "$$H_{0}: p=p_{0} \\\\ H_{1}: p \\neq p_{1}$$\n",
    "\n",
    "To perform this test, we:\n",
    "- Estimate the population proportion by the sample proportion,\n",
    "- Calculate the following test statistic, which under the null hypothesis, follows approximately (dependent on the rule of thumb stated above) a Standard Normal Distribution: $$z=\\frac{\\hat{p}-p_{0}}{\\sqrt{p_{0}(1-p_{0})/n}}$$"
   ]
  },
  {
   "cell_type": "markdown",
   "metadata": {},
   "source": [
    "##### Decision Rule:\n",
    "\n",
    "Reject if $Z > Z_{\\alpha}/2$, where $Z_{\\alpha}$ is the $1-\\alpha/2$ percentile of the standard normal distribution."
   ]
  },
  {
   "cell_type": "markdown",
   "metadata": {},
   "source": [
    "##### Confidence Intervals\n",
    "\n",
    "Additionally we can calculate confidence intervals for the sample proportion, again relying on the rule of thumb as stated above. The upper and lower limits of the confidence interval are given by:\n",
    "$$(\\hat{p}-z_{\\alpha/2}\\sqrt{\\frac{\\hat{p}(1-\\hat{p})}{n}}, \\hat{p}+z_{\\alpha/2}\\sqrt{\\frac{\\hat{p}(1-\\hat{p})}{n}})$$"
   ]
  },
  {
   "cell_type": "markdown",
   "metadata": {},
   "source": [
    "##### Confidence Intervals /2\n",
    "\n",
    "Confidence intervals seem to follow the same pattern:\n",
    "$$ \\bar{X} +- quantile * \\sqrt{s}$$"
   ]
  },
  {
   "cell_type": "markdown",
   "metadata": {},
   "source": [
    "---"
   ]
  },
  {
   "cell_type": "markdown",
   "metadata": {},
   "source": [
    "### Chi-squared test"
   ]
  },
  {
   "cell_type": "markdown",
   "metadata": {},
   "source": [
    "A chi-squared test, also written as $χ2$ test, is a **statistical hypothesis test** that is valid to perform when the test statistic is chi-squared distributed under the null hypothesis, specifically Pearson's chi-squared test and variants thereof.\n",
    "\n",
    "Pearson's chi-squared test is used to *determine whether there is a statistically significant difference between the expected frequencies and the observed frequencies* in one or more categories of a contingency table."
   ]
  },
  {
   "cell_type": "markdown",
   "metadata": {},
   "source": [
    "Test statistics that follow a $χ2$ distribution occur when **the observations are independent and normally distributed**, which assumptions are often justified under the central limit theorem. "
   ]
  },
  {
   "cell_type": "markdown",
   "metadata": {},
   "source": [
    "#### References\n",
    "1. http://sphweb.bumc.bu.edu/otlt/MPH-Modules/BS/SAS/SAS6-CategoricalData/SAS6-CategoricalData2.html\n",
    "2. https://docs.scipy.org/doc/scipy/reference/generated/scipy.stats.chisquare.html\n",
    "3. https://it.wikipedia.org/wiki/Test_chi_quadrato"
   ]
  }
 ],
 "metadata": {
  "kernelspec": {
   "display_name": "Python 3",
   "language": "python",
   "name": "python3"
  },
  "language_info": {
   "codemirror_mode": {
    "name": "ipython",
    "version": 3
   },
   "file_extension": ".py",
   "mimetype": "text/x-python",
   "name": "python",
   "nbconvert_exporter": "python",
   "pygments_lexer": "ipython3",
   "version": "3.7.3"
  }
 },
 "nbformat": 4,
 "nbformat_minor": 2
}
