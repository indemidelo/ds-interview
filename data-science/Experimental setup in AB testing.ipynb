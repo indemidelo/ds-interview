{
 "cells": [
  {
   "cell_type": "markdown",
   "metadata": {},
   "source": [
    "### Proportion Test"
   ]
  },
  {
   "cell_type": "markdown",
   "metadata": {},
   "source": [
    "Same as usual, testing the null hypothesis of a proportion of individuals in a population who have a certain trait.\n",
    "\n",
    "##### Point Estimate\n",
    "This time the sampled proportion is $$\\hat{p}=\\frac{x}{n}$$ where $x$ is the number of individuals with the trait and $n$ the size of the sample."
   ]
  },
  {
   "cell_type": "markdown",
   "metadata": {},
   "source": [
    "##### Hypothesis testing:\n",
    "$$H_{0}: p=p_{0} \\\\ H_{1}: p \\neq p_{0}$$\n",
    "\n",
    "To perform this test, we:\n",
    "- Estimate the population proportion by the sample proportion,\n",
    "- Calculate the following test statistic, which under the null hypothesis follows approximately (dependent on the rule of thumb stated above) a Standard Normal Distribution: $$z=\\frac{\\hat{p}-p_{0}}{\\sqrt{p_{0}(1-p_{0})/n}}$$"
   ]
  },
  {
   "cell_type": "markdown",
   "metadata": {},
   "source": [
    "##### Decision Rule:\n",
    "\n",
    "Reject if $Z > Z_{\\alpha}/2$, where $Z_{\\alpha}$ is the $1-\\alpha/2$ percentile of the standard normal distribution."
   ]
  },
  {
   "cell_type": "markdown",
   "metadata": {},
   "source": [
    "##### Confidence Intervals\n",
    "\n",
    "Additionally we can calculate confidence intervals for the sample proportion, again relying on the rule of thumb as stated above. The upper and lower limits of the confidence interval are given by:\n",
    "$$(\\hat{p}-z_{\\alpha/2}\\sqrt{\\frac{\\hat{p}(1-\\hat{p})}{n}}, \\hat{p}+z_{\\alpha/2}\\sqrt{\\frac{\\hat{p}(1-\\hat{p})}{n}})$$"
   ]
  },
  {
   "cell_type": "markdown",
   "metadata": {},
   "source": [
    "##### Confidence Intervals /2\n",
    "\n",
    "Confidence intervals seem to follow the same pattern:\n",
    "$$ \\bar{X} +- quantile * \\sqrt{s^2}$$"
   ]
  },
  {
   "cell_type": "markdown",
   "metadata": {},
   "source": [
    "---"
   ]
  },
  {
   "cell_type": "markdown",
   "metadata": {},
   "source": [
    "### Chi-squared test"
   ]
  },
  {
   "cell_type": "markdown",
   "metadata": {},
   "source": [
    "A chi-squared test, also written as $χ^2$ test, is a **statistical hypothesis test** that is valid to perform when the test statistic is chi-squared distributed under the null hypothesis, specifically Pearson's chi-squared test and variants thereof.\n",
    "\n",
    "Pearson's chi-squared test is used to *determine whether there is a statistically significant difference between the expected frequencies and the observed frequencies* in one or more categories of a contingency table."
   ]
  },
  {
   "cell_type": "markdown",
   "metadata": {},
   "source": [
    "Pearson's chi-squared test is used to assess three types of comparison: goodness of fit, homogeneity, and independence.\n",
    "\n",
    "* A test of *goodness of fit* establishes whether an observed frequency distribution differs from a theoretical distribution.\n",
    "* A test of *homogeneity* compares the distribution of counts for two or more groups using the same categorical variable (e.g. choice of activity—college, military, employment, travel—of graduates of a high school reported a year after graduation, sorted by graduation year, to see if number of graduates choosing a given activity has changed from class to class, or from decade to decade).\n",
    "* A test of *independence* assesses whether observations consisting of measures on two variables, expressed in a contingency table, are independent of each other (e.g. polling responses from people of different nationalities to see if one's nationality is related to the response)."
   ]
  },
  {
   "cell_type": "markdown",
   "metadata": {},
   "source": [
    "Test statistics that follow a $χ^2$ distribution occur when **the observations are independent and normally distributed**, which assumptions are often justified under the central limit theorem. "
   ]
  },
  {
   "cell_type": "markdown",
   "metadata": {},
   "source": [
    "#### References\n",
    "1. http://sphweb.bumc.bu.edu/otlt/MPH-Modules/BS/SAS/SAS6-CategoricalData/SAS6-CategoricalData2.html\n",
    "2. https://docs.scipy.org/doc/scipy/reference/generated/scipy.stats.chisquare.html\n",
    "3. https://it.wikipedia.org/wiki/Test_chi_quadrato\n",
    "4. https://en.wikipedia.org/wiki/Pearson%27s_chi-squared_test"
   ]
  }
 ],
 "metadata": {
  "kernelspec": {
   "display_name": "Python 3",
   "language": "python",
   "name": "python3"
  },
  "language_info": {
   "codemirror_mode": {
    "name": "ipython",
    "version": 3
   },
   "file_extension": ".py",
   "mimetype": "text/x-python",
   "name": "python",
   "nbconvert_exporter": "python",
   "pygments_lexer": "ipython3",
   "version": "3.7.3"
  }
 },
 "nbformat": 4,
 "nbformat_minor": 2
}
