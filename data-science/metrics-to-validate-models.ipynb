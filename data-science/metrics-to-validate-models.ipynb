{
 "cells": [
  {
   "cell_type": "markdown",
   "metadata": {},
   "source": [
    "### Metrics to validate models"
   ]
  },
  {
   "cell_type": "markdown",
   "metadata": {},
   "source": [
    "### Accuracy\n",
    "*Accuracy* is the proportion of correct predictions (both **true positives** and **true negatives**) among the total number of cases examined. The general term *accuracy* is used to describe the closeness of a measurement to the true value.\n",
    "\n",
    "$$\\text{Accuracy} = \\frac{\\text{TP} + \\text{TN}}{\\text{TP} + \\text{TN} + \\text{FP} + \\text{FN}}$$\n",
    "\n",
    "where $\\text{TP}$ = True positive; $\\text{FP}$ = False positive; $\\text{TN}$ = True negative; $\\text{FN}$ = False negative."
   ]
  },
  {
   "cell_type": "markdown",
   "metadata": {},
   "source": [
    "### MSE\n",
    "The *Mean Squared Error* (*MSE*) of an estimator measures the average of the squares of the errors—that is, the average squared difference between the estimated values and the actual value.\n",
    "\n",
    "$$\\text{MSE} = \\frac{1}{n}\\sum^{n}_{i=1}{(Y_{i} - \\hat{Y}_{i})^{2}}$$"
   ]
  },
  {
   "cell_type": "markdown",
   "metadata": {},
   "source": [
    "### PRESS\n",
    "The *PRESS* statistic (Predicted Residual Sum of Squares) is a form of *cross-validation* used in regression analysis to provide a summary measure of the fit of a model to a sample of observations that were not themselves used to estimate the model. It is calculated as the sums of squares of the prediction residuals for those observations. See also *Leave-one-out cross-validation*.\n",
    "\n",
    "A *fitted model* having been produced, each observation in turn is removed and the model is refitted using the remaining observations. The out-of-sample predicted value is calculated for the omitted observation in each case, and the *PRESS* statistic is calculated as the sum of the squares of all the resulting prediction errors:\n",
    "\n",
    "$$ \\text{PRESS} = \\sum_{i=1}^n{(y_i - \\hat{y}_{i, -i})^2}$$"
   ]
  },
  {
   "cell_type": "markdown",
   "metadata": {},
   "source": [
    "#### Sources\n",
    "1. Accuracy: https://en.wikipedia.org/wiki/Accuracy_and_precision\n",
    "2. MSE: https://en.wikipedia.org/wiki/Mean_squared_error\n",
    "3. PRESS: https://en.wikipedia.org/wiki/PRESS_statistic, https://robjhyndman.com/hyndsight/crossvalidation/"
   ]
  }
 ],
 "metadata": {
  "kernelspec": {
   "display_name": "Python 3",
   "language": "python",
   "name": "python3"
  },
  "language_info": {
   "codemirror_mode": {
    "name": "ipython",
    "version": 3
   },
   "file_extension": ".py",
   "mimetype": "text/x-python",
   "name": "python",
   "nbconvert_exporter": "python",
   "pygments_lexer": "ipython3",
   "version": "3.7.3"
  }
 },
 "nbformat": 4,
 "nbformat_minor": 4
}
