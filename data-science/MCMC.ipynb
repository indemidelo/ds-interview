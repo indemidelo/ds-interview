{
 "cells": [
  {
   "cell_type": "markdown",
   "metadata": {},
   "source": [
    "# Monte Carlo Markov Chains"
   ]
  },
  {
   "cell_type": "markdown",
   "metadata": {},
   "source": [
    "Servono a campionare da una distribuzione. Ottengo campioni registrando degli stati dalla catena."
   ]
  },
  {
   "cell_type": "markdown",
   "metadata": {},
   "source": [
    "È un *ensemble* di catene: ognuna parte da un punto sufficientemente distante dall'altro. Sono dei random walker e sono autocorrelate."
   ]
  },
  {
   "cell_type": "markdown",
   "metadata": {},
   "source": [
    "### Metropolis-Hastings\n",
    "Fisso una distribuzione target $P(x)$ e mi servono una $f(x)$ e una $g(x)$ entrambe legate da alcune ipotesi a $P(x)$. Inoltre mi serve un punto $x_{0}$ da cui partire.\n",
    "1. Campiono da $g(x|x_{0})$\n",
    "2. Controllo se il punto campionato soddisfa un criterio di accettazione (acceptance rate)\n",
    "3. Se il punto lo soddisfa allora la prossima volta parto a campionare da $g(x|x_{new})$, altrimenti ricampiono con $x_{0}$\n",
    "\n",
    "Rimossi i primi campionamenti (*burn-in*), la sequenza è un campionamento da $P(x)$"
   ]
  }
 ],
 "metadata": {
  "kernelspec": {
   "display_name": "PyCharm (poc-reply)",
   "language": "python",
   "name": "pycharm-37677e90"
  },
  "language_info": {
   "codemirror_mode": {
    "name": "ipython",
    "version": 3
   },
   "file_extension": ".py",
   "mimetype": "text/x-python",
   "name": "python",
   "nbconvert_exporter": "python",
   "pygments_lexer": "ipython3",
   "version": "3.7.3"
  }
 },
 "nbformat": 4,
 "nbformat_minor": 2
}
