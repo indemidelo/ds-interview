{
 "cells": [
  {
   "cell_type": "markdown",
   "metadata": {},
   "source": [
    "### ANOVA"
   ]
  },
  {
   "cell_type": "markdown",
   "metadata": {},
   "source": [
    "The Analysis of Variance is a statistical model used to **analyze differences among group means in a sample**. The ANOVA is based on the *law of total variance*, where the observed variance in a particular variable is partitioned into components attributable to different sources of variation. \n",
    "\n",
    "$$SS_{total} = SS_{Within Treatments} + SS_{Between Treatments}$$\n",
    "\n",
    "In its simples form, it provides a statistical test of whether two or more population means are equal, and therefore generalizes the *t-test* beyond two means."
   ]
  },
  {
   "cell_type": "markdown",
   "metadata": {},
   "source": [
    "#### Assumptions\n",
    "The normal-model based ANOVA analysis assumes the *independence*, *normality* and *homogeneity of variances of the residuals*. The randomization-based analysis assumes only the *homogeneity of the variances of the residuals* (as a consequence of unit-treatment additivity) and uses the randomization procedure of the experiment. \n",
    "\n",
    "Both these analyses require **homoscedasticity**, as an assumption for the normal-model analysis and as a consequence of randomization and additivity for the randomization-based analysis."
   ]
  },
  {
   "cell_type": "markdown",
   "metadata": {},
   "source": [
    "#### How to calculate ANOVA\n",
    "\n",
    "Given:\n",
    "- $G$ the number of treatments\n",
    "- $n$ the total number of samples\n",
    "- $n_{g}$ the number of samples treated with $g$\n",
    "- $m = \\sum_{j=1}^{n}{x_j/n}$ the sample mean\n",
    "- $m_{g}=\\sum_{j=1}^{n_g}{x_{g_j}/n_g}$ the mean of all samples treated with $g$\n",
    "\n",
    "then\n",
    "\n",
    "- $MS_{Within}$ is the variance within treatments;\n",
    "- $MS_{Between}$ is the variance between treatments;\n",
    "- $SS_{Within} = \\sum_{g=1}^{G} \\sum_{j=1}^{n_{g}}{(x_{g_{j}} - m_{g})^2}$ is the sum of squares of the difference between each data point and the mean of the points receiving the same treatment;\n",
    "- $SS_{Between} = \\sum_{g=1}^{G}{(m_{g} - m)^2}$ is the sum of squares of the difference between the mean of each treatments and the sample mean;\n",
    "\n",
    "Then,\n",
    "\n",
    "$$F = \\frac{MS_{Between}}{MS_{Within}} = \\frac {SS_{Between}/(G-1)} {SS_{Within}/(n-G)}$$\n",
    "\n",
    "is the F-test statistic to test the null hypothesis that all the treatments have the same mean.\n",
    "\n",
    "Since $F$ is a ratio of two chi-squared distribution, it follows a *Fisher distribution* with $(G-1, n-G)$ degrees of freedom.\n",
    "\n",
    "If the ***variance between treatments is sensibly higher than the variance within treatments***, it means that there is at least a treatment whose observed samples have a different mean from the other samples. Then the null hp should be rejected."
   ]
  }
 ],
 "metadata": {
  "kernelspec": {
   "display_name": "Python 3",
   "language": "python",
   "name": "python3"
  },
  "language_info": {
   "codemirror_mode": {
    "name": "ipython",
    "version": 3
   },
   "file_extension": ".py",
   "mimetype": "text/x-python",
   "name": "python",
   "nbconvert_exporter": "python",
   "pygments_lexer": "ipython3",
   "version": "3.7.3"
  }
 },
 "nbformat": 4,
 "nbformat_minor": 2
}
