{
 "cells": [
  {
   "cell_type": "code",
   "execution_count": 51,
   "metadata": {
    "pycharm": {
     "name": "#%%\n"
    }
   },
   "outputs": [],
   "source": [
    "import numpy as np\n",
    "import pandas as pd\n",
    "import matplotlib.pyplot as plt\n",
    "import sklearn\n",
    "from scipy import stats\n",
    "import os"
   ]
  },
  {
   "cell_type": "code",
   "execution_count": 3,
   "metadata": {
    "pycharm": {
     "name": "#%%\n"
    }
   },
   "outputs": [
    {
     "name": "stdout",
     "output_type": "stream",
     "text": [
      "['.ipynb_checkpoints', 'ANOVA.ipynb', 'Experimental setup in AB testing.ipynb', 'gender_submission.csv', 'test.csv', 'titanic.ipynb', 'train.csv']\n"
     ]
    }
   ],
   "source": [
    "# Load data\n",
    "print(os.listdir(os.curdir))\n",
    "x_train = pd.read_csv('train.csv')\n",
    "x_test = pd.read_csv('test.csv')\n",
    "y_test = pd.read_csv('gender_submission.csv')"
   ]
  },
  {
   "cell_type": "markdown",
   "metadata": {},
   "source": [
    "### Exploration"
   ]
  },
  {
   "cell_type": "code",
   "execution_count": 4,
   "metadata": {
    "pycharm": {
     "name": "#%%\n"
    }
   },
   "outputs": [
    {
     "name": "stdout",
     "output_type": "stream",
     "text": [
      "<class 'pandas.core.frame.DataFrame'>\n",
      "RangeIndex: 891 entries, 0 to 890\n",
      "Data columns (total 12 columns):\n",
      "PassengerId    891 non-null int64\n",
      "Survived       891 non-null int64\n",
      "Pclass         891 non-null int64\n",
      "Name           891 non-null object\n",
      "Sex            891 non-null object\n",
      "Age            714 non-null float64\n",
      "SibSp          891 non-null int64\n",
      "Parch          891 non-null int64\n",
      "Ticket         891 non-null object\n",
      "Fare           891 non-null float64\n",
      "Cabin          204 non-null object\n",
      "Embarked       889 non-null object\n",
      "dtypes: float64(2), int64(5), object(5)\n",
      "memory usage: 83.6+ KB\n"
     ]
    },
    {
     "data": {
      "text/html": [
       "<div>\n",
       "<style scoped>\n",
       "    .dataframe tbody tr th:only-of-type {\n",
       "        vertical-align: middle;\n",
       "    }\n",
       "\n",
       "    .dataframe tbody tr th {\n",
       "        vertical-align: top;\n",
       "    }\n",
       "\n",
       "    .dataframe thead th {\n",
       "        text-align: right;\n",
       "    }\n",
       "</style>\n",
       "<table border=\"1\" class=\"dataframe\">\n",
       "  <thead>\n",
       "    <tr style=\"text-align: right;\">\n",
       "      <th></th>\n",
       "      <th>PassengerId</th>\n",
       "      <th>Survived</th>\n",
       "      <th>Pclass</th>\n",
       "      <th>Age</th>\n",
       "      <th>SibSp</th>\n",
       "      <th>Parch</th>\n",
       "      <th>Fare</th>\n",
       "    </tr>\n",
       "  </thead>\n",
       "  <tbody>\n",
       "    <tr>\n",
       "      <th>count</th>\n",
       "      <td>891.000000</td>\n",
       "      <td>891.000000</td>\n",
       "      <td>891.000000</td>\n",
       "      <td>714.000000</td>\n",
       "      <td>891.000000</td>\n",
       "      <td>891.000000</td>\n",
       "      <td>891.000000</td>\n",
       "    </tr>\n",
       "    <tr>\n",
       "      <th>mean</th>\n",
       "      <td>446.000000</td>\n",
       "      <td>0.383838</td>\n",
       "      <td>2.308642</td>\n",
       "      <td>29.699118</td>\n",
       "      <td>0.523008</td>\n",
       "      <td>0.381594</td>\n",
       "      <td>32.204208</td>\n",
       "    </tr>\n",
       "    <tr>\n",
       "      <th>std</th>\n",
       "      <td>257.353842</td>\n",
       "      <td>0.486592</td>\n",
       "      <td>0.836071</td>\n",
       "      <td>14.526497</td>\n",
       "      <td>1.102743</td>\n",
       "      <td>0.806057</td>\n",
       "      <td>49.693429</td>\n",
       "    </tr>\n",
       "    <tr>\n",
       "      <th>min</th>\n",
       "      <td>1.000000</td>\n",
       "      <td>0.000000</td>\n",
       "      <td>1.000000</td>\n",
       "      <td>0.420000</td>\n",
       "      <td>0.000000</td>\n",
       "      <td>0.000000</td>\n",
       "      <td>0.000000</td>\n",
       "    </tr>\n",
       "    <tr>\n",
       "      <th>25%</th>\n",
       "      <td>223.500000</td>\n",
       "      <td>0.000000</td>\n",
       "      <td>2.000000</td>\n",
       "      <td>20.125000</td>\n",
       "      <td>0.000000</td>\n",
       "      <td>0.000000</td>\n",
       "      <td>7.910400</td>\n",
       "    </tr>\n",
       "    <tr>\n",
       "      <th>50%</th>\n",
       "      <td>446.000000</td>\n",
       "      <td>0.000000</td>\n",
       "      <td>3.000000</td>\n",
       "      <td>28.000000</td>\n",
       "      <td>0.000000</td>\n",
       "      <td>0.000000</td>\n",
       "      <td>14.454200</td>\n",
       "    </tr>\n",
       "    <tr>\n",
       "      <th>75%</th>\n",
       "      <td>668.500000</td>\n",
       "      <td>1.000000</td>\n",
       "      <td>3.000000</td>\n",
       "      <td>38.000000</td>\n",
       "      <td>1.000000</td>\n",
       "      <td>0.000000</td>\n",
       "      <td>31.000000</td>\n",
       "    </tr>\n",
       "    <tr>\n",
       "      <th>max</th>\n",
       "      <td>891.000000</td>\n",
       "      <td>1.000000</td>\n",
       "      <td>3.000000</td>\n",
       "      <td>80.000000</td>\n",
       "      <td>8.000000</td>\n",
       "      <td>6.000000</td>\n",
       "      <td>512.329200</td>\n",
       "    </tr>\n",
       "  </tbody>\n",
       "</table>\n",
       "</div>"
      ],
      "text/plain": [
       "       PassengerId    Survived      Pclass         Age       SibSp  \\\n",
       "count   891.000000  891.000000  891.000000  714.000000  891.000000   \n",
       "mean    446.000000    0.383838    2.308642   29.699118    0.523008   \n",
       "std     257.353842    0.486592    0.836071   14.526497    1.102743   \n",
       "min       1.000000    0.000000    1.000000    0.420000    0.000000   \n",
       "25%     223.500000    0.000000    2.000000   20.125000    0.000000   \n",
       "50%     446.000000    0.000000    3.000000   28.000000    0.000000   \n",
       "75%     668.500000    1.000000    3.000000   38.000000    1.000000   \n",
       "max     891.000000    1.000000    3.000000   80.000000    8.000000   \n",
       "\n",
       "            Parch        Fare  \n",
       "count  891.000000  891.000000  \n",
       "mean     0.381594   32.204208  \n",
       "std      0.806057   49.693429  \n",
       "min      0.000000    0.000000  \n",
       "25%      0.000000    7.910400  \n",
       "50%      0.000000   14.454200  \n",
       "75%      0.000000   31.000000  \n",
       "max      6.000000  512.329200  "
      ]
     },
     "execution_count": 4,
     "metadata": {},
     "output_type": "execute_result"
    }
   ],
   "source": [
    "x_train.info()\n",
    "x_train.describe()"
   ]
  },
  {
   "cell_type": "code",
   "execution_count": 5,
   "metadata": {
    "pycharm": {
     "name": "#%%\n"
    }
   },
   "outputs": [
    {
     "data": {
      "text/plain": [
       "array([[<matplotlib.axes._subplots.AxesSubplot object at 0x0000026716AF1198>]],\n",
       "      dtype=object)"
      ]
     },
     "execution_count": 5,
     "metadata": {},
     "output_type": "execute_result"
    },
    {
     "data": {
      "image/png": "[encoded data removed]",
      "text/plain": [
       "<Figure size 432x288 with 1 Axes>"
      ]
     },
     "metadata": {
      "needs_background": "light"
     },
     "output_type": "display_data"
    }
   ],
   "source": [
    "# Data exploration with some histogram: is there a correlation between the Survived col and the others?\n",
    "\n",
    "x_train.hist('Survived')\n",
    "# there are more dead than survived passengers"
   ]
  },
  {
   "cell_type": "code",
   "execution_count": 6,
   "metadata": {
    "pycharm": {
     "name": "#%%\n"
    }
   },
   "outputs": [
    {
     "data": {
      "text/plain": [
       "array([<matplotlib.axes._subplots.AxesSubplot object at 0x0000026716DDA5C0>,\n",
       "       <matplotlib.axes._subplots.AxesSubplot object at 0x0000026716E6E898>,\n",
       "       <matplotlib.axes._subplots.AxesSubplot object at 0x0000026716EB0D30>],\n",
       "      dtype=object)"
      ]
     },
     "execution_count": 6,
     "metadata": {},
     "output_type": "execute_result"
    },
    {
     "data": {
      "image/png": "[encoded data removed]",
      "text/plain": [
       "<Figure size 720x216 with 3 Axes>"
      ]
     },
     "metadata": {
      "needs_background": "light"
     },
     "output_type": "display_data"
    }
   ],
   "source": [
    "x_train.hist('Survived', by='Pclass', layout=[1, 3], figsize=[10, 3])\n",
    "# by = group by the column; layout = how to dispose the plots; figsize= resize the plots (usually to fit them better on one line or column)\n",
    "# The higher the class, the higher the probability of survive\n",
    "# The second class passengers are almost evenly distributed"
   ]
  },
  {
   "cell_type": "code",
   "execution_count": 7,
   "metadata": {
    "pycharm": {
     "name": "#%%\n"
    }
   },
   "outputs": [
    {
     "data": {
      "text/plain": [
       "array([<matplotlib.axes._subplots.AxesSubplot object at 0x0000026716DDA7B8>,\n",
       "       <matplotlib.axes._subplots.AxesSubplot object at 0x0000026716FF2710>],\n",
       "      dtype=object)"
      ]
     },
     "execution_count": 7,
     "metadata": {},
     "output_type": "execute_result"
    },
    {
     "data": {
      "image/png": "[encoded data removed]",
      "text/plain": [
       "<Figure size 720x288 with 2 Axes>"
      ]
     },
     "metadata": {
      "needs_background": "light"
     },
     "output_type": "display_data"
    }
   ],
   "source": [
    "x_train.hist('Survived', by='Sex', layout=[1, 2], figsize=[10, 4])\n",
    "# Being a woman would have enhanced your chances to survive the disaster"
   ]
  },
  {
   "cell_type": "code",
   "execution_count": 8,
   "metadata": {
    "pycharm": {
     "name": "#%%\n"
    }
   },
   "outputs": [
    {
     "data": {
      "text/plain": [
       "array([<matplotlib.axes._subplots.AxesSubplot object at 0x00000267170A1358>,\n",
       "       <matplotlib.axes._subplots.AxesSubplot object at 0x00000267170D0E48>,\n",
       "       <matplotlib.axes._subplots.AxesSubplot object at 0x000002671710A358>],\n",
       "      dtype=object)"
      ]
     },
     "execution_count": 8,
     "metadata": {},
     "output_type": "execute_result"
    },
    {
     "data": {
      "image/png": "[encoded data removed]",
      "text/plain": [
       "<Figure size 720x216 with 3 Axes>"
      ]
     },
     "metadata": {
      "needs_background": "light"
     },
     "output_type": "display_data"
    }
   ],
   "source": [
    "x_train.hist('Survived', by='Embarked', layout=[1, 3], figsize=[10, 3])\n",
    "# If you embarked in the port of Cherbourg you had higher chances to live.\n",
    "# Maybe the port is correlated with the passenger's class?"
   ]
  },
  {
   "cell_type": "code",
   "execution_count": 9,
   "metadata": {
    "pycharm": {
     "name": "#%%\n"
    }
   },
   "outputs": [
    {
     "data": {
      "text/plain": [
       "array([<matplotlib.axes._subplots.AxesSubplot object at 0x0000026717153198>,\n",
       "       <matplotlib.axes._subplots.AxesSubplot object at 0x000002671721B9B0>,\n",
       "       <matplotlib.axes._subplots.AxesSubplot object at 0x000002671724BBE0>],\n",
       "      dtype=object)"
      ]
     },
     "execution_count": 9,
     "metadata": {},
     "output_type": "execute_result"
    },
    {
     "data": {
      "image/png": "[encoded data removed]",
      "text/plain": [
       "<Figure size 720x216 with 3 Axes>"
      ]
     },
     "metadata": {
      "needs_background": "light"
     },
     "output_type": "display_data"
    }
   ],
   "source": [
    "x_train.hist('Pclass', by='Embarked', layout=[1, 3], figsize=[10, 3],\n",
    "             sharey=True)\n",
    "# a correlation could be spotted, but should be further investigated.\n",
    "# we can assert that almost half of the passengers embarked in C had a first\n",
    "# class ticket, even if the majority of them embarked in S."
   ]
  },
  {
   "cell_type": "code",
   "execution_count": 10,
   "metadata": {
    "pycharm": {
     "name": "#%%\n"
    }
   },
   "outputs": [
    {
     "data": {
      "text/plain": [
       "array([[<matplotlib.axes._subplots.AxesSubplot object at 0x00000267174A8860>,\n",
       "        <matplotlib.axes._subplots.AxesSubplot object at 0x00000267174EA9B0>],\n",
       "       [<matplotlib.axes._subplots.AxesSubplot object at 0x0000026717518C50>,\n",
       "        <matplotlib.axes._subplots.AxesSubplot object at 0x000002671754AEF0>]],\n",
       "      dtype=object)"
      ]
     },
     "execution_count": 10,
     "metadata": {},
     "output_type": "execute_result"
    },
    {
     "data": {
      "image/png": "[encoded data removed]",
      "text/plain": [
       "<Figure size 432x288 with 4 Axes>"
      ]
     },
     "metadata": {
      "needs_background": "light"
     },
     "output_type": "display_data"
    },
    {
     "data": {
      "image/png": "[encoded data removed]",
      "text/plain": [
       "<Figure size 432x288 with 4 Axes>"
      ]
     },
     "metadata": {
      "needs_background": "light"
     },
     "output_type": "display_data"
    }
   ],
   "source": [
    "# Histogram of Age grouped by Survived and Sex, bins=step to divide the Age variables into\n",
    "x_train.hist('Age', bins=10, by=['Survived', 'Sex'])\n",
    "x_train.hist('Age', bins=10, by=['Survived', 'Sex'],\n",
    "             sharex=True, sharey=True)"
   ]
  },
  {
   "cell_type": "code",
   "execution_count": 11,
   "metadata": {
    "pycharm": {
     "name": "#%%\n"
    }
   },
   "outputs": [
    {
     "data": {
      "text/plain": [
       "array([[<matplotlib.axes._subplots.AxesSubplot object at 0x000002671779A780>,\n",
       "        <matplotlib.axes._subplots.AxesSubplot object at 0x00000267177DE1D0>,\n",
       "        <matplotlib.axes._subplots.AxesSubplot object at 0x000002671780B780>],\n",
       "       [<matplotlib.axes._subplots.AxesSubplot object at 0x000002671783AD30>,\n",
       "        <matplotlib.axes._subplots.AxesSubplot object at 0x0000026717873320>,\n",
       "        <matplotlib.axes._subplots.AxesSubplot object at 0x00000267178A38D0>],\n",
       "       [<matplotlib.axes._subplots.AxesSubplot object at 0x00000267178D4E80>,\n",
       "        <matplotlib.axes._subplots.AxesSubplot object at 0x00000267179104A8>,\n",
       "        <matplotlib.axes._subplots.AxesSubplot object at 0x00000267179104E0>],\n",
       "       [<matplotlib.axes._subplots.AxesSubplot object at 0x0000026717976FD0>,\n",
       "        <matplotlib.axes._subplots.AxesSubplot object at 0x00000267179B25C0>,\n",
       "        <matplotlib.axes._subplots.AxesSubplot object at 0x00000267179E4B70>]],\n",
       "      dtype=object)"
      ]
     },
     "execution_count": 11,
     "metadata": {},
     "output_type": "execute_result"
    },
    {
     "data": {
      "image/png": "[encoded data removed]",
      "text/plain": [
       "<Figure size 720x216 with 3 Axes>"
      ]
     },
     "metadata": {
      "needs_background": "light"
     },
     "output_type": "display_data"
    },
    {
     "data": {
      "image/png": "[encoded data removed]",
      "text/plain": [
       "<Figure size 432x288 with 12 Axes>"
      ]
     },
     "metadata": {
      "needs_background": "light"
     },
     "output_type": "display_data"
    }
   ],
   "source": [
    "# Embarked vs sex\n",
    "# get_dummies does one-hot-encoding. drop_first avoid the creation of a correlated column\n",
    "is_male = pd.get_dummies(x_train['Sex'], drop_first=True)\n",
    "x_train['is_male'] = is_male\n",
    "x_train.hist('is_male', by='Embarked', layout=[1, 3], figsize=[10, 3],\n",
    "             sharey=True)\n",
    "\n",
    "x_train.hist('is_male', by=['Embarked', 'Pclass'])\n"
   ]
  },
  {
   "cell_type": "code",
   "execution_count": 12,
   "metadata": {
    "pycharm": {
     "name": "#%%\n"
    }
   },
   "outputs": [
    {
     "data": {
      "text/plain": [
       "PassengerId      0\n",
       "Survived         0\n",
       "Pclass           0\n",
       "Name             0\n",
       "Sex              0\n",
       "Age            177\n",
       "SibSp            0\n",
       "Parch            0\n",
       "Ticket           0\n",
       "Fare             0\n",
       "Cabin          687\n",
       "Embarked         2\n",
       "is_male          0\n",
       "dtype: int64"
      ]
     },
     "execution_count": 12,
     "metadata": {},
     "output_type": "execute_result"
    }
   ],
   "source": [
    "# Missing values analysis\n",
    "x_train.isnull().sum()"
   ]
  },
  {
   "cell_type": "code",
   "execution_count": 13,
   "metadata": {
    "pycharm": {
     "name": "#%%\n"
    }
   },
   "outputs": [],
   "source": [
    "# we are going to impute all those missing data points with the median Age.\n",
    "# But since we have the Title of every passenger, we infer their Age 'Title' group wise  \n",
    "# expand serves to return always a DataFrame\n",
    "x_train['title'] = x_train['Name'].str.lower().str.extract('([a-z]*\\.)', expand=True)"
   ]
  },
  {
   "cell_type": "code",
   "execution_count": 14,
   "metadata": {
    "pycharm": {
     "name": "#%%\n"
    }
   },
   "outputs": [],
   "source": [
    "# Some examples\n",
    "missing_age = dict()\n",
    "missing_age['dr.'] = x_train[((x_train['Age'].isnull()==True) & (x_train['title']=='dr.'))].index.tolist()\n",
    "missing_age['mister.'] = x_train[((x_train['Age'].isnull()==True) & (x_train['title']=='mister.'))].index.tolist()\n",
    "missing_age['miss.'] = x_train[((x_train['Age'].isnull()==True) & (x_train['title']=='miss.'))].index.tolist()\n",
    "missing_age['mr.'] = x_train[((x_train['Age'].isnull()==True) & (x_train['title']=='mr.'))].index.tolist()\n",
    "missing_age['mrs.'] = x_train[((x_train['Age'].isnull()==True) & (x_train['title']=='mrs.'))].index.tolist()\n",
    "\n",
    "for k, v in missing_age.items():\n",
    "    if v:\n",
    "        missing_age[k] = v[0]\n",
    "    else:\n",
    "        missing_age[k] = None"
   ]
  },
  {
   "cell_type": "code",
   "execution_count": 15,
   "metadata": {
    "pycharm": {
     "name": "#%%\n"
    }
   },
   "outputs": [
    {
     "data": {
      "text/html": [
       "<div>\n",
       "<style scoped>\n",
       "    .dataframe tbody tr th:only-of-type {\n",
       "        vertical-align: middle;\n",
       "    }\n",
       "\n",
       "    .dataframe tbody tr th {\n",
       "        vertical-align: top;\n",
       "    }\n",
       "\n",
       "    .dataframe thead th {\n",
       "        text-align: right;\n",
       "    }\n",
       "</style>\n",
       "<table border=\"1\" class=\"dataframe\">\n",
       "  <thead>\n",
       "    <tr style=\"text-align: right;\">\n",
       "      <th></th>\n",
       "      <th>PassengerId</th>\n",
       "      <th>Survived</th>\n",
       "      <th>Pclass</th>\n",
       "      <th>Name</th>\n",
       "      <th>Sex</th>\n",
       "      <th>Age</th>\n",
       "      <th>SibSp</th>\n",
       "      <th>Parch</th>\n",
       "      <th>Ticket</th>\n",
       "      <th>Fare</th>\n",
       "      <th>Cabin</th>\n",
       "      <th>Embarked</th>\n",
       "      <th>is_male</th>\n",
       "      <th>title</th>\n",
       "    </tr>\n",
       "  </thead>\n",
       "  <tbody>\n",
       "    <tr>\n",
       "      <th>5</th>\n",
       "      <td>6</td>\n",
       "      <td>0</td>\n",
       "      <td>3</td>\n",
       "      <td>Moran, Mr. James</td>\n",
       "      <td>male</td>\n",
       "      <td>NaN</td>\n",
       "      <td>0</td>\n",
       "      <td>0</td>\n",
       "      <td>330877</td>\n",
       "      <td>8.4583</td>\n",
       "      <td>NaN</td>\n",
       "      <td>Q</td>\n",
       "      <td>1</td>\n",
       "      <td>mr.</td>\n",
       "    </tr>\n",
       "    <tr>\n",
       "      <th>19</th>\n",
       "      <td>20</td>\n",
       "      <td>1</td>\n",
       "      <td>3</td>\n",
       "      <td>Masselmani, Mrs. Fatima</td>\n",
       "      <td>female</td>\n",
       "      <td>NaN</td>\n",
       "      <td>0</td>\n",
       "      <td>0</td>\n",
       "      <td>2649</td>\n",
       "      <td>7.2250</td>\n",
       "      <td>NaN</td>\n",
       "      <td>C</td>\n",
       "      <td>0</td>\n",
       "      <td>mrs.</td>\n",
       "    </tr>\n",
       "    <tr>\n",
       "      <th>28</th>\n",
       "      <td>29</td>\n",
       "      <td>1</td>\n",
       "      <td>3</td>\n",
       "      <td>O'Dwyer, Miss. Ellen \"Nellie\"</td>\n",
       "      <td>female</td>\n",
       "      <td>NaN</td>\n",
       "      <td>0</td>\n",
       "      <td>0</td>\n",
       "      <td>330959</td>\n",
       "      <td>7.8792</td>\n",
       "      <td>NaN</td>\n",
       "      <td>Q</td>\n",
       "      <td>0</td>\n",
       "      <td>miss.</td>\n",
       "    </tr>\n",
       "    <tr>\n",
       "      <th>766</th>\n",
       "      <td>767</td>\n",
       "      <td>0</td>\n",
       "      <td>1</td>\n",
       "      <td>Brewe, Dr. Arthur Jackson</td>\n",
       "      <td>male</td>\n",
       "      <td>NaN</td>\n",
       "      <td>0</td>\n",
       "      <td>0</td>\n",
       "      <td>112379</td>\n",
       "      <td>39.6000</td>\n",
       "      <td>NaN</td>\n",
       "      <td>C</td>\n",
       "      <td>1</td>\n",
       "      <td>dr.</td>\n",
       "    </tr>\n",
       "  </tbody>\n",
       "</table>\n",
       "</div>"
      ],
      "text/plain": [
       "     PassengerId  Survived  Pclass                           Name     Sex  \\\n",
       "5              6         0       3               Moran, Mr. James    male   \n",
       "19            20         1       3        Masselmani, Mrs. Fatima  female   \n",
       "28            29         1       3  O'Dwyer, Miss. Ellen \"Nellie\"  female   \n",
       "766          767         0       1      Brewe, Dr. Arthur Jackson    male   \n",
       "\n",
       "     Age  SibSp  Parch  Ticket     Fare Cabin Embarked  is_male  title  \n",
       "5    NaN      0      0  330877   8.4583   NaN        Q        1    mr.  \n",
       "19   NaN      0      0    2649   7.2250   NaN        C        0   mrs.  \n",
       "28   NaN      0      0  330959   7.8792   NaN        Q        0  miss.  \n",
       "766  NaN      0      0  112379  39.6000   NaN        C        1    dr.  "
      ]
     },
     "execution_count": 15,
     "metadata": {},
     "output_type": "execute_result"
    }
   ],
   "source": [
    "is_missing_age_pid = [False for _ in range(x_train.shape[0])]\n",
    "for j in missing_age.values(): \n",
    "    if j: \n",
    "        is_missing_age_pid[j] = True\n",
    "x_train[is_missing_age_pid]"
   ]
  },
  {
   "cell_type": "code",
   "execution_count": 16,
   "metadata": {
    "pycharm": {
     "name": "#%%\n"
    }
   },
   "outputs": [],
   "source": [
    "# remember that a sentence must be included in brackets to be considered valid by pandas.\n",
    "# i.e.  df[A & B] KO\n",
    "#       df[(A) & (B)] OK\n",
    "# df[<condition>] works like the `which` function in R. It allows to select only the data points \n",
    "# that respect the condition in the square brackets\n",
    "avg_dr = x_train[((x_train['title'] == 'dr.') & (x_train['Age'].isnull() == False))]['Age'].median()\n",
    "avg_master = x_train[((x_train['title'] == 'master.') & (x_train['Age'].isnull() == False))]['Age'].median()\n",
    "avg_miss = x_train[((x_train['title'] == 'miss.') & (x_train['Age'].isnull() == False))]['Age'].median()\n",
    "avg_mr = x_train[((x_train['title'] == 'mr.') & (x_train['Age'].isnull() == False))]['Age'].median()\n",
    "avg_mrs = x_train[((x_train['title'] == 'mrs.') & (x_train['Age'].isnull() == False))]['Age'].median()"
   ]
  },
  {
   "cell_type": "code",
   "execution_count": 17,
   "metadata": {
    "pycharm": {
     "name": "#%%\n"
    }
   },
   "outputs": [],
   "source": [
    "# Now to replace the missing values. We can do it with a for loop or with a single command.\n",
    "# Let's use the df.loc function. \n",
    "# df[condition] export the data points only for visualization purposes; to modify them we use df.loc\n",
    "# The syntax is df.loc[<row condition>, <column condition>]\n",
    "# the column condition can be just the name of the column as a string\n",
    "# the .tolist() method transform a dataframe into a list. maybe unnecessary\n",
    "x_train.loc[((x_train['title'] == 'dr.') & (x_train['Age'].isnull()==True)).tolist(), 'Age'] = avg_dr\n",
    "x_train.loc[((x_train['title'] == 'master.') & (x_train['Age'].isnull()==True)).tolist(), 'Age'] = avg_master\n",
    "x_train.loc[((x_train['title'] == 'miss.') & (x_train['Age'].isnull()==True)).tolist(), 'Age'] = avg_miss\n",
    "x_train.loc[((x_train['title'] == 'mr.') & (x_train['Age'].isnull()==True)).tolist(), 'Age'] = avg_mr\n",
    "x_train.loc[((x_train['title'] == 'mrs.') & (x_train['Age'].isnull()==True)).tolist(), 'Age'] = avg_mrs"
   ]
  },
  {
   "cell_type": "code",
   "execution_count": 18,
   "metadata": {
    "pycharm": {
     "name": "#%%\n"
    }
   },
   "outputs": [
    {
     "data": {
      "text/plain": [
       "PassengerId      0\n",
       "Survived         0\n",
       "Pclass           0\n",
       "Name             0\n",
       "Sex              0\n",
       "Age              0\n",
       "SibSp            0\n",
       "Parch            0\n",
       "Ticket           0\n",
       "Fare             0\n",
       "Cabin          687\n",
       "Embarked         2\n",
       "is_male          0\n",
       "title            0\n",
       "dtype: int64"
      ]
     },
     "execution_count": 18,
     "metadata": {},
     "output_type": "execute_result"
    }
   ],
   "source": [
    "x_train.isnull().sum()"
   ]
  },
  {
   "cell_type": "code",
   "execution_count": 19,
   "metadata": {
    "pycharm": {
     "name": "#%%\n"
    }
   },
   "outputs": [
    {
     "data": {
      "text/html": [
       "<div>\n",
       "<style scoped>\n",
       "    .dataframe tbody tr th:only-of-type {\n",
       "        vertical-align: middle;\n",
       "    }\n",
       "\n",
       "    .dataframe tbody tr th {\n",
       "        vertical-align: top;\n",
       "    }\n",
       "\n",
       "    .dataframe thead th {\n",
       "        text-align: right;\n",
       "    }\n",
       "</style>\n",
       "<table border=\"1\" class=\"dataframe\">\n",
       "  <thead>\n",
       "    <tr style=\"text-align: right;\">\n",
       "      <th></th>\n",
       "      <th>PassengerId</th>\n",
       "      <th>Survived</th>\n",
       "      <th>Pclass</th>\n",
       "      <th>Name</th>\n",
       "      <th>Sex</th>\n",
       "      <th>Age</th>\n",
       "      <th>SibSp</th>\n",
       "      <th>Parch</th>\n",
       "      <th>Ticket</th>\n",
       "      <th>Fare</th>\n",
       "      <th>Cabin</th>\n",
       "      <th>Embarked</th>\n",
       "      <th>is_male</th>\n",
       "      <th>title</th>\n",
       "    </tr>\n",
       "  </thead>\n",
       "  <tbody>\n",
       "    <tr>\n",
       "      <th>5</th>\n",
       "      <td>6</td>\n",
       "      <td>0</td>\n",
       "      <td>3</td>\n",
       "      <td>Moran, Mr. James</td>\n",
       "      <td>male</td>\n",
       "      <td>30.0</td>\n",
       "      <td>0</td>\n",
       "      <td>0</td>\n",
       "      <td>330877</td>\n",
       "      <td>8.4583</td>\n",
       "      <td>NaN</td>\n",
       "      <td>Q</td>\n",
       "      <td>1</td>\n",
       "      <td>mr.</td>\n",
       "    </tr>\n",
       "    <tr>\n",
       "      <th>19</th>\n",
       "      <td>20</td>\n",
       "      <td>1</td>\n",
       "      <td>3</td>\n",
       "      <td>Masselmani, Mrs. Fatima</td>\n",
       "      <td>female</td>\n",
       "      <td>35.0</td>\n",
       "      <td>0</td>\n",
       "      <td>0</td>\n",
       "      <td>2649</td>\n",
       "      <td>7.2250</td>\n",
       "      <td>NaN</td>\n",
       "      <td>C</td>\n",
       "      <td>0</td>\n",
       "      <td>mrs.</td>\n",
       "    </tr>\n",
       "    <tr>\n",
       "      <th>28</th>\n",
       "      <td>29</td>\n",
       "      <td>1</td>\n",
       "      <td>3</td>\n",
       "      <td>O'Dwyer, Miss. Ellen \"Nellie\"</td>\n",
       "      <td>female</td>\n",
       "      <td>21.0</td>\n",
       "      <td>0</td>\n",
       "      <td>0</td>\n",
       "      <td>330959</td>\n",
       "      <td>7.8792</td>\n",
       "      <td>NaN</td>\n",
       "      <td>Q</td>\n",
       "      <td>0</td>\n",
       "      <td>miss.</td>\n",
       "    </tr>\n",
       "    <tr>\n",
       "      <th>766</th>\n",
       "      <td>767</td>\n",
       "      <td>0</td>\n",
       "      <td>1</td>\n",
       "      <td>Brewe, Dr. Arthur Jackson</td>\n",
       "      <td>male</td>\n",
       "      <td>46.5</td>\n",
       "      <td>0</td>\n",
       "      <td>0</td>\n",
       "      <td>112379</td>\n",
       "      <td>39.6000</td>\n",
       "      <td>NaN</td>\n",
       "      <td>C</td>\n",
       "      <td>1</td>\n",
       "      <td>dr.</td>\n",
       "    </tr>\n",
       "  </tbody>\n",
       "</table>\n",
       "</div>"
      ],
      "text/plain": [
       "     PassengerId  Survived  Pclass                           Name     Sex  \\\n",
       "5              6         0       3               Moran, Mr. James    male   \n",
       "19            20         1       3        Masselmani, Mrs. Fatima  female   \n",
       "28            29         1       3  O'Dwyer, Miss. Ellen \"Nellie\"  female   \n",
       "766          767         0       1      Brewe, Dr. Arthur Jackson    male   \n",
       "\n",
       "      Age  SibSp  Parch  Ticket     Fare Cabin Embarked  is_male  title  \n",
       "5    30.0      0      0  330877   8.4583   NaN        Q        1    mr.  \n",
       "19   35.0      0      0    2649   7.2250   NaN        C        0   mrs.  \n",
       "28   21.0      0      0  330959   7.8792   NaN        Q        0  miss.  \n",
       "766  46.5      0      0  112379  39.6000   NaN        C        1    dr.  "
      ]
     },
     "execution_count": 19,
     "metadata": {},
     "output_type": "execute_result"
    }
   ],
   "source": [
    "# apparently pandas wants a list of booleans of the same dimension of the df to select specific rows\n",
    "x_train.loc[is_missing_age_pid]"
   ]
  },
  {
   "cell_type": "markdown",
   "metadata": {},
   "source": [
    "## Hypothesis Testing"
   ]
  },
  {
   "cell_type": "markdown",
   "metadata": {},
   "source": [
    "### Student's t-test\n",
    "Statistical hypothesis test in which the test statistic follows a Student's t-distribution under the null hypothesis.\n",
    "(see https://en.wikipedia.org/wiki/Student%27s_t-test for details)\n",
    "\n",
    "Two of the most common uses are:\n",
    "\n",
    "1. A *one-sample* location test of whether **the mean has a value specified** in the null hp\n",
    "2. A *two-samples* location test of the null hp such that **the means of two populations are equal**. This works if the variances of the population are also assumed equal. If this assumption is dropped, the Welch t-test can be used."
   ]
  },
  {
   "cell_type": "code",
   "execution_count": 20,
   "metadata": {
    "pycharm": {
     "name": "#%%\n"
    }
   },
   "outputs": [],
   "source": [
    "# We will measure whether the average age of the survived differs from the age of the dead passengers\n",
    "# First we need to compute the sample variance of the two population (survived vs dead):\n",
    "x_surv = x_train.loc[x_train['Survived'].tolist()]\n",
    "x_dead = x_train.loc[(1-x_train['Survived']).tolist()]"
   ]
  },
  {
   "cell_type": "code",
   "execution_count": 21,
   "metadata": {
    "pycharm": {
     "name": "#%%\n"
    }
   },
   "outputs": [
    {
     "data": {
      "text/html": [
       "<div>\n",
       "<style scoped>\n",
       "    .dataframe tbody tr th:only-of-type {\n",
       "        vertical-align: middle;\n",
       "    }\n",
       "\n",
       "    .dataframe tbody tr th {\n",
       "        vertical-align: top;\n",
       "    }\n",
       "\n",
       "    .dataframe thead th {\n",
       "        text-align: right;\n",
       "    }\n",
       "</style>\n",
       "<table border=\"1\" class=\"dataframe\">\n",
       "  <thead>\n",
       "    <tr style=\"text-align: right;\">\n",
       "      <th></th>\n",
       "      <th>PassengerId</th>\n",
       "      <th>Survived</th>\n",
       "      <th>Pclass</th>\n",
       "      <th>Age</th>\n",
       "      <th>SibSp</th>\n",
       "      <th>Parch</th>\n",
       "      <th>Fare</th>\n",
       "      <th>is_male</th>\n",
       "    </tr>\n",
       "  </thead>\n",
       "  <tbody>\n",
       "    <tr>\n",
       "      <th>count</th>\n",
       "      <td>342.000000</td>\n",
       "      <td>342.0</td>\n",
       "      <td>342.000000</td>\n",
       "      <td>342.000000</td>\n",
       "      <td>342.000000</td>\n",
       "      <td>342.000000</td>\n",
       "      <td>342.000000</td>\n",
       "      <td>342.000000</td>\n",
       "    </tr>\n",
       "    <tr>\n",
       "      <th>mean</th>\n",
       "      <td>444.368421</td>\n",
       "      <td>1.0</td>\n",
       "      <td>1.950292</td>\n",
       "      <td>28.066287</td>\n",
       "      <td>0.473684</td>\n",
       "      <td>0.464912</td>\n",
       "      <td>48.395408</td>\n",
       "      <td>0.318713</td>\n",
       "    </tr>\n",
       "    <tr>\n",
       "      <th>std</th>\n",
       "      <td>252.358840</td>\n",
       "      <td>0.0</td>\n",
       "      <td>0.863321</td>\n",
       "      <td>14.085381</td>\n",
       "      <td>0.708688</td>\n",
       "      <td>0.771712</td>\n",
       "      <td>66.596998</td>\n",
       "      <td>0.466660</td>\n",
       "    </tr>\n",
       "    <tr>\n",
       "      <th>min</th>\n",
       "      <td>2.000000</td>\n",
       "      <td>1.0</td>\n",
       "      <td>1.000000</td>\n",
       "      <td>0.420000</td>\n",
       "      <td>0.000000</td>\n",
       "      <td>0.000000</td>\n",
       "      <td>0.000000</td>\n",
       "      <td>0.000000</td>\n",
       "    </tr>\n",
       "    <tr>\n",
       "      <th>25%</th>\n",
       "      <td>250.750000</td>\n",
       "      <td>1.0</td>\n",
       "      <td>1.000000</td>\n",
       "      <td>21.000000</td>\n",
       "      <td>0.000000</td>\n",
       "      <td>0.000000</td>\n",
       "      <td>12.475000</td>\n",
       "      <td>0.000000</td>\n",
       "    </tr>\n",
       "    <tr>\n",
       "      <th>50%</th>\n",
       "      <td>439.500000</td>\n",
       "      <td>1.0</td>\n",
       "      <td>2.000000</td>\n",
       "      <td>28.000000</td>\n",
       "      <td>0.000000</td>\n",
       "      <td>0.000000</td>\n",
       "      <td>26.000000</td>\n",
       "      <td>0.000000</td>\n",
       "    </tr>\n",
       "    <tr>\n",
       "      <th>75%</th>\n",
       "      <td>651.500000</td>\n",
       "      <td>1.0</td>\n",
       "      <td>3.000000</td>\n",
       "      <td>35.000000</td>\n",
       "      <td>1.000000</td>\n",
       "      <td>1.000000</td>\n",
       "      <td>57.000000</td>\n",
       "      <td>1.000000</td>\n",
       "    </tr>\n",
       "    <tr>\n",
       "      <th>max</th>\n",
       "      <td>890.000000</td>\n",
       "      <td>1.0</td>\n",
       "      <td>3.000000</td>\n",
       "      <td>80.000000</td>\n",
       "      <td>4.000000</td>\n",
       "      <td>5.000000</td>\n",
       "      <td>512.329200</td>\n",
       "      <td>1.000000</td>\n",
       "    </tr>\n",
       "  </tbody>\n",
       "</table>\n",
       "</div>"
      ],
      "text/plain": [
       "       PassengerId  Survived      Pclass         Age       SibSp       Parch  \\\n",
       "count   342.000000     342.0  342.000000  342.000000  342.000000  342.000000   \n",
       "mean    444.368421       1.0    1.950292   28.066287    0.473684    0.464912   \n",
       "std     252.358840       0.0    0.863321   14.085381    0.708688    0.771712   \n",
       "min       2.000000       1.0    1.000000    0.420000    0.000000    0.000000   \n",
       "25%     250.750000       1.0    1.000000   21.000000    0.000000    0.000000   \n",
       "50%     439.500000       1.0    2.000000   28.000000    0.000000    0.000000   \n",
       "75%     651.500000       1.0    3.000000   35.000000    1.000000    1.000000   \n",
       "max     890.000000       1.0    3.000000   80.000000    4.000000    5.000000   \n",
       "\n",
       "             Fare     is_male  \n",
       "count  342.000000  342.000000  \n",
       "mean    48.395408    0.318713  \n",
       "std     66.596998    0.466660  \n",
       "min      0.000000    0.000000  \n",
       "25%     12.475000    0.000000  \n",
       "50%     26.000000    0.000000  \n",
       "75%     57.000000    1.000000  \n",
       "max    512.329200    1.000000  "
      ]
     },
     "execution_count": 21,
     "metadata": {},
     "output_type": "execute_result"
    }
   ],
   "source": [
    "x_surv = x_train[x_train['Survived'] == 1]\n",
    "x_surv.describe()"
   ]
  },
  {
   "cell_type": "code",
   "execution_count": 22,
   "metadata": {
    "pycharm": {
     "name": "#%%\n"
    }
   },
   "outputs": [
    {
     "data": {
      "text/html": [
       "<div>\n",
       "<style scoped>\n",
       "    .dataframe tbody tr th:only-of-type {\n",
       "        vertical-align: middle;\n",
       "    }\n",
       "\n",
       "    .dataframe tbody tr th {\n",
       "        vertical-align: top;\n",
       "    }\n",
       "\n",
       "    .dataframe thead th {\n",
       "        text-align: right;\n",
       "    }\n",
       "</style>\n",
       "<table border=\"1\" class=\"dataframe\">\n",
       "  <thead>\n",
       "    <tr style=\"text-align: right;\">\n",
       "      <th></th>\n",
       "      <th>PassengerId</th>\n",
       "      <th>Survived</th>\n",
       "      <th>Pclass</th>\n",
       "      <th>Age</th>\n",
       "      <th>SibSp</th>\n",
       "      <th>Parch</th>\n",
       "      <th>Fare</th>\n",
       "      <th>is_male</th>\n",
       "    </tr>\n",
       "  </thead>\n",
       "  <tbody>\n",
       "    <tr>\n",
       "      <th>count</th>\n",
       "      <td>549.000000</td>\n",
       "      <td>549.0</td>\n",
       "      <td>549.000000</td>\n",
       "      <td>549.000000</td>\n",
       "      <td>549.000000</td>\n",
       "      <td>549.000000</td>\n",
       "      <td>549.000000</td>\n",
       "      <td>549.000000</td>\n",
       "    </tr>\n",
       "    <tr>\n",
       "      <th>mean</th>\n",
       "      <td>447.016393</td>\n",
       "      <td>0.0</td>\n",
       "      <td>2.531876</td>\n",
       "      <td>30.214936</td>\n",
       "      <td>0.553734</td>\n",
       "      <td>0.329690</td>\n",
       "      <td>22.117887</td>\n",
       "      <td>0.852459</td>\n",
       "    </tr>\n",
       "    <tr>\n",
       "      <th>std</th>\n",
       "      <td>260.640469</td>\n",
       "      <td>0.0</td>\n",
       "      <td>0.735805</td>\n",
       "      <td>12.671138</td>\n",
       "      <td>1.288399</td>\n",
       "      <td>0.823166</td>\n",
       "      <td>31.388207</td>\n",
       "      <td>0.354968</td>\n",
       "    </tr>\n",
       "    <tr>\n",
       "      <th>min</th>\n",
       "      <td>1.000000</td>\n",
       "      <td>0.0</td>\n",
       "      <td>1.000000</td>\n",
       "      <td>1.000000</td>\n",
       "      <td>0.000000</td>\n",
       "      <td>0.000000</td>\n",
       "      <td>0.000000</td>\n",
       "      <td>0.000000</td>\n",
       "    </tr>\n",
       "    <tr>\n",
       "      <th>25%</th>\n",
       "      <td>211.000000</td>\n",
       "      <td>0.0</td>\n",
       "      <td>2.000000</td>\n",
       "      <td>22.000000</td>\n",
       "      <td>0.000000</td>\n",
       "      <td>0.000000</td>\n",
       "      <td>7.854200</td>\n",
       "      <td>1.000000</td>\n",
       "    </tr>\n",
       "    <tr>\n",
       "      <th>50%</th>\n",
       "      <td>455.000000</td>\n",
       "      <td>0.0</td>\n",
       "      <td>3.000000</td>\n",
       "      <td>30.000000</td>\n",
       "      <td>0.000000</td>\n",
       "      <td>0.000000</td>\n",
       "      <td>10.500000</td>\n",
       "      <td>1.000000</td>\n",
       "    </tr>\n",
       "    <tr>\n",
       "      <th>75%</th>\n",
       "      <td>675.000000</td>\n",
       "      <td>0.0</td>\n",
       "      <td>3.000000</td>\n",
       "      <td>35.000000</td>\n",
       "      <td>1.000000</td>\n",
       "      <td>0.000000</td>\n",
       "      <td>26.000000</td>\n",
       "      <td>1.000000</td>\n",
       "    </tr>\n",
       "    <tr>\n",
       "      <th>max</th>\n",
       "      <td>891.000000</td>\n",
       "      <td>0.0</td>\n",
       "      <td>3.000000</td>\n",
       "      <td>74.000000</td>\n",
       "      <td>8.000000</td>\n",
       "      <td>6.000000</td>\n",
       "      <td>263.000000</td>\n",
       "      <td>1.000000</td>\n",
       "    </tr>\n",
       "  </tbody>\n",
       "</table>\n",
       "</div>"
      ],
      "text/plain": [
       "       PassengerId  Survived      Pclass         Age       SibSp       Parch  \\\n",
       "count   549.000000     549.0  549.000000  549.000000  549.000000  549.000000   \n",
       "mean    447.016393       0.0    2.531876   30.214936    0.553734    0.329690   \n",
       "std     260.640469       0.0    0.735805   12.671138    1.288399    0.823166   \n",
       "min       1.000000       0.0    1.000000    1.000000    0.000000    0.000000   \n",
       "25%     211.000000       0.0    2.000000   22.000000    0.000000    0.000000   \n",
       "50%     455.000000       0.0    3.000000   30.000000    0.000000    0.000000   \n",
       "75%     675.000000       0.0    3.000000   35.000000    1.000000    0.000000   \n",
       "max     891.000000       0.0    3.000000   74.000000    8.000000    6.000000   \n",
       "\n",
       "             Fare     is_male  \n",
       "count  549.000000  549.000000  \n",
       "mean    22.117887    0.852459  \n",
       "std     31.388207    0.354968  \n",
       "min      0.000000    0.000000  \n",
       "25%      7.854200    1.000000  \n",
       "50%     10.500000    1.000000  \n",
       "75%     26.000000    1.000000  \n",
       "max    263.000000    1.000000  "
      ]
     },
     "execution_count": 22,
     "metadata": {},
     "output_type": "execute_result"
    }
   ],
   "source": [
    "x_dead = x_train[x_train['Survived'] == 0]\n",
    "x_dead.describe()"
   ]
  },
  {
   "cell_type": "code",
   "execution_count": 23,
   "metadata": {
    "pycharm": {
     "name": "#%%\n"
    }
   },
   "outputs": [
    {
     "data": {
      "text/plain": [
       "{'var_surv': 198.39795244550766, 'var_dead': 160.55773270578203}"
      ]
     },
     "execution_count": 23,
     "metadata": {},
     "output_type": "execute_result"
    }
   ],
   "source": [
    "{'var_surv': x_surv['Age'].var(), 'var_dead': x_dead['Age'].var()}"
   ]
  },
  {
   "cell_type": "code",
   "execution_count": 24,
   "metadata": {
    "pycharm": {
     "name": "#%%\n"
    }
   },
   "outputs": [],
   "source": [
    "# The two population do not have the same variance, \n",
    "# but we will try both the tests (same sample variance and different sample variance)"
   ]
  },
  {
   "cell_type": "code",
   "execution_count": 25,
   "metadata": {
    "pycharm": {
     "name": "#%%\n"
    }
   },
   "outputs": [
    {
     "data": {
      "text/plain": [
       "0.018623643214940117"
      ]
     },
     "execution_count": 25,
     "metadata": {},
     "output_type": "execute_result"
    }
   ],
   "source": [
    "# Standard independent 2-sample test: the population variances are assumed equal\n",
    "# H0: mu_surv = mu_dead vs H1: mu_surv <> mu_dead\n",
    "statistic, pvalue = stats.ttest_ind(x_surv['Age'].array, x_dead['Age'].array)\n",
    "pvalue"
   ]
  },
  {
   "cell_type": "markdown",
   "metadata": {},
   "source": [
    "The *pvalue* is **the probability of obtaining results as extreme as the observed result of a statistical hypothesis test, assuming the null hypothesis is true**.\n",
    "The statistical hp test is built using the population (i.e. its population average and variance).\n",
    "\n",
    "For example the statistical hypothesis Student's t-test is: $$Y_{0} = \\frac{\\bar{X}-\\mu_{0}}{s/\\sqrt n}$$ where:\n",
    "\n",
    "- $\\bar{X}$ is the population mean\n",
    "- $\\mu_{0}$ is the null hypothesis value to be tested\n",
    "- $s$ is the population standard deviation\n",
    "- $n$ is the number of samples\n",
    "\n",
    "The pvalue is $$P(Y \\geq Y_{0}|H_{0})$$\n",
    "\n",
    "Seeing everything from a stat hp test perspective, we can reformulate $H_{0}$ as the hypothesis that $Y_{0}$ or a more extreme value can be drawn from $Y$."
   ]
  },
  {
   "cell_type": "markdown",
   "metadata": {},
   "source": [
    "BUT\n",
    "\n",
    "$$P(observation|hypothesis) \\neq P(hypothesis|observation)$$, \n",
    "\n",
    "thus using the pvalue as a score is committing a logical error: the *tranposed condition fallacy*\n",
    "It is not true to assert that if the probability of an observation under a hp is low, than the probability that given the observation the hp is true is low. The two numbers can be very different.\n",
    "\n",
    "In our case, we are estimating the probability that the H0: $\\mu_{surv}=\\mu_{dead}$ is valid given the data with the probability that, given the null hp, we should draw a result as extreme as the one from the statistical hp test.\n",
    "Since this value is far away from the center of the distribution, the probability of drawing it (pvalue) is low.\n",
    "\n",
    "Thus there is statistical evidence to reject the null hypothesis."
   ]
  },
  {
   "cell_type": "code",
   "execution_count": 26,
   "metadata": {
    "pycharm": {
     "name": "#%%\n"
    }
   },
   "outputs": [
    {
     "data": {
      "text/plain": [
       "0.021744814090944902"
      ]
     },
     "execution_count": 26,
     "metadata": {},
     "output_type": "execute_result"
    }
   ],
   "source": [
    "# Welch 2-sample test: the population variances are different\n",
    "# equal_var = False\n",
    "# H0: mu_surv = mu_dead vs H1: mu_surv <> mu_dead\n",
    "statistic, pvalue = stats.ttest_ind(x_surv['Age'].array, x_dead['Age'].array, equal_var=False)\n",
    "pvalue"
   ]
  },
  {
   "cell_type": "code",
   "execution_count": 27,
   "metadata": {
    "pycharm": {
     "name": "#%%\n"
    }
   },
   "outputs": [],
   "source": [
    "# Still pretty low.\n",
    "# If we had a known variance and a normal distribution, we could have used the z-test.\n",
    "# If the variance is unknown, the Student's t-test shall be used."
   ]
  },
  {
   "cell_type": "markdown",
   "metadata": {},
   "source": [
    "### Chi-squared test"
   ]
  },
  {
   "cell_type": "markdown",
   "metadata": {},
   "source": [
    "The chi-square test tests the null hypothesis that **the categorical data has the given frequencies**."
   ]
  },
  {
   "cell_type": "code",
   "execution_count": 28,
   "metadata": {
    "pycharm": {
     "name": "#%%\n"
    }
   },
   "outputs": [
    {
     "data": {
      "text/html": [
       "<div>\n",
       "<style scoped>\n",
       "    .dataframe tbody tr th:only-of-type {\n",
       "        vertical-align: middle;\n",
       "    }\n",
       "\n",
       "    .dataframe tbody tr th {\n",
       "        vertical-align: top;\n",
       "    }\n",
       "\n",
       "    .dataframe thead tr th {\n",
       "        text-align: left;\n",
       "    }\n",
       "\n",
       "    .dataframe thead tr:last-of-type th {\n",
       "        text-align: right;\n",
       "    }\n",
       "</style>\n",
       "<table border=\"1\" class=\"dataframe\">\n",
       "  <thead>\n",
       "    <tr>\n",
       "      <th>Sex</th>\n",
       "      <th colspan=\"3\" halign=\"left\">female</th>\n",
       "      <th colspan=\"3\" halign=\"left\">male</th>\n",
       "    </tr>\n",
       "    <tr>\n",
       "      <th>Pclass</th>\n",
       "      <th>1</th>\n",
       "      <th>2</th>\n",
       "      <th>3</th>\n",
       "      <th>1</th>\n",
       "      <th>2</th>\n",
       "      <th>3</th>\n",
       "    </tr>\n",
       "    <tr>\n",
       "      <th>Survived</th>\n",
       "      <th></th>\n",
       "      <th></th>\n",
       "      <th></th>\n",
       "      <th></th>\n",
       "      <th></th>\n",
       "      <th></th>\n",
       "    </tr>\n",
       "  </thead>\n",
       "  <tbody>\n",
       "    <tr>\n",
       "      <th>0</th>\n",
       "      <td>3</td>\n",
       "      <td>6</td>\n",
       "      <td>72</td>\n",
       "      <td>77</td>\n",
       "      <td>91</td>\n",
       "      <td>300</td>\n",
       "    </tr>\n",
       "    <tr>\n",
       "      <th>1</th>\n",
       "      <td>91</td>\n",
       "      <td>70</td>\n",
       "      <td>72</td>\n",
       "      <td>45</td>\n",
       "      <td>17</td>\n",
       "      <td>47</td>\n",
       "    </tr>\n",
       "  </tbody>\n",
       "</table>\n",
       "</div>"
      ],
      "text/plain": [
       "Sex      female         male         \n",
       "Pclass        1   2   3    1   2    3\n",
       "Survived                             \n",
       "0             3   6  72   77  91  300\n",
       "1            91  70  72   45  17   47"
      ]
     },
     "execution_count": 28,
     "metadata": {},
     "output_type": "execute_result"
    }
   ],
   "source": [
    "# Table of frequencies\n",
    "crosstab = pd.crosstab(x_train['Survived'], [x_train['Sex'], x_train['Pclass']])\n",
    "crosstab"
   ]
  },
  {
   "cell_type": "code",
   "execution_count": 29,
   "metadata": {
    "pycharm": {
     "name": "#%%\n"
    }
   },
   "outputs": [
    {
     "data": {
      "text/plain": [
       "array([45, 17, 47], dtype=int64)"
      ]
     },
     "execution_count": 29,
     "metadata": {},
     "output_type": "execute_result"
    }
   ],
   "source": [
    "# Let's test that the proportion of survived males is independent from the passenger's class\n",
    "crosstab = pd.crosstab(x_train['Survived'][x_train['Sex']=='male'], [x_train['Pclass'][x_train['Sex']=='male']])\n",
    "crosstab_males = crosstab.to_numpy()[1]\n",
    "crosstab_males"
   ]
  },
  {
   "cell_type": "code",
   "execution_count": 30,
   "metadata": {
    "pycharm": {
     "name": "#%%\n"
    }
   },
   "outputs": [
    {
     "data": {
      "text/plain": [
       "array([37, 36, 36], dtype=int64)"
      ]
     },
     "execution_count": 30,
     "metadata": {},
     "output_type": "execute_result"
    }
   ],
   "source": [
    "# expected frequency\n",
    "f_exp = [int(sum(crosstab_males)/3) for j in crosstab_males]\n",
    "f_exp[0] = int(f_exp[0]) + 1\n",
    "f_exp = np.array(f_exp).astype(np.int64)\n",
    "f_exp"
   ]
  },
  {
   "cell_type": "code",
   "execution_count": 31,
   "metadata": {
    "pycharm": {
     "name": "#%%\n"
    }
   },
   "outputs": [
    {
     "data": {
      "text/plain": [
       "Power_divergenceResult(statistic=15.118618618618619, pvalue=0.0005212351318382975)"
      ]
     },
     "execution_count": 31,
     "metadata": {},
     "output_type": "execute_result"
    }
   ],
   "source": [
    "from scipy.stats import chisquare\n",
    "chisquare([45, 17, 47], f_exp=f_exp)\n",
    "# chisquare(crosstab_males, f_exp=f_exp)"
   ]
  },
  {
   "cell_type": "code",
   "execution_count": 32,
   "metadata": {
    "pycharm": {
     "name": "#%%\n"
    }
   },
   "outputs": [
    {
     "data": {
      "text/html": [
       "<div>\n",
       "<style scoped>\n",
       "    .dataframe tbody tr th:only-of-type {\n",
       "        vertical-align: middle;\n",
       "    }\n",
       "\n",
       "    .dataframe tbody tr th {\n",
       "        vertical-align: top;\n",
       "    }\n",
       "\n",
       "    .dataframe thead th {\n",
       "        text-align: right;\n",
       "    }\n",
       "</style>\n",
       "<table border=\"1\" class=\"dataframe\">\n",
       "  <thead>\n",
       "    <tr style=\"text-align: right;\">\n",
       "      <th>Pclass</th>\n",
       "      <th>1</th>\n",
       "      <th>2</th>\n",
       "      <th>3</th>\n",
       "    </tr>\n",
       "    <tr>\n",
       "      <th>Sex</th>\n",
       "      <th></th>\n",
       "      <th></th>\n",
       "      <th></th>\n",
       "    </tr>\n",
       "  </thead>\n",
       "  <tbody>\n",
       "    <tr>\n",
       "      <th>female</th>\n",
       "      <td>91</td>\n",
       "      <td>70</td>\n",
       "      <td>72</td>\n",
       "    </tr>\n",
       "    <tr>\n",
       "      <th>male</th>\n",
       "      <td>45</td>\n",
       "      <td>17</td>\n",
       "      <td>47</td>\n",
       "    </tr>\n",
       "  </tbody>\n",
       "</table>\n",
       "</div>"
      ],
      "text/plain": [
       "Pclass   1   2   3\n",
       "Sex               \n",
       "female  91  70  72\n",
       "male    45  17  47"
      ]
     },
     "execution_count": 32,
     "metadata": {},
     "output_type": "execute_result"
    }
   ],
   "source": [
    "# Power_divergence is probably a module bug\n",
    "# H0 rejected. Let's try another one based on crosstab: females survived vs males survived\n",
    "crosstab_surv = pd.crosstab(x_train['Sex'][x_train['Survived']==1], [x_train['Pclass'][x_train['Survived']==1]])\n",
    "crosstab_surv"
   ]
  },
  {
   "cell_type": "code",
   "execution_count": 33,
   "metadata": {
    "pycharm": {
     "name": "#%%\n"
    }
   },
   "outputs": [
    {
     "data": {
      "text/plain": [
       "Power_divergenceResult(statistic=225.55538868029484, pvalue=1.0501943229903619e-49)"
      ]
     },
     "execution_count": 33,
     "metadata": {},
     "output_type": "execute_result"
    }
   ],
   "source": [
    "crosstab_surv.astype(np.int64)\n",
    "chisquare(crosstab_surv.to_numpy()[0,], crosstab_surv.to_numpy()[1,])"
   ]
  },
  {
   "cell_type": "code",
   "execution_count": 1,
   "metadata": {
    "pycharm": {
     "name": "#%%\n"
    }
   },
   "outputs": [],
   "source": [
    "# Even lower! No statistical evidence to accept H0. Qui esce power divergence perchè sta provando un altro test, in cui\n",
    "# la somma delle frequenze è diversa tra le popolazioni. Se fossero identiche mi farebbe correttamente chisquare"
   ]
  },
  {
   "cell_type": "markdown",
   "metadata": {},
   "source": [
    "## Two-samples *t*-test for Equal Means"
   ]
  },
  {
   "cell_type": "markdown",
   "metadata": {},
   "source": [
    "The two-sample t-test is used to determine if two population means are equal. A common application is to test if a new process or treatment is superior to a current process or treatment. The two population have different distribution."
   ]
  },
  {
   "cell_type": "markdown",
   "metadata": {},
   "source": [
    "There are several variations on this test.\n",
    "\n",
    "1. The data may either be paired or not paired. By paired, we mean that there is a one-to-one correspondence between the values in the two samples. That is, if $X_1,X_2,\\dots,X_n$ and $Y_1,Y_2,\\dots,Y_n$ are the two samples, then $X_i$ corresponds to $Y_i$. For paired samples, the difference $X_i - Y_i$ is usually calculated. For unpaired samples, the sample sizes for the two samples may or may not be equal. The formulas for paired data are somewhat simpler than the formulas for unpaired data.\n",
    "2. The variances of the two samples may be assumed to be equal or unequal. Equal variances yields somewhat simpler formulas, although with computers this is no longer a significant issue.\n",
    "3. In some applications, you may want to adopt a new process or treatment only if it exceeds the current treatment by some threshold. In this case, we can state the null hypothesis in the form that the difference between the two populations means is equal to some constant $\\mu_1−\\mu_2=d_0$ where the constant is the desired threshold."
   ]
  },
  {
   "cell_type": "markdown",
   "metadata": {},
   "source": [
    "The **two-sample t-test** for unpaired data is defined as:\n",
    "$$H_0:\t\\mu_1=\\mu_2$$\n",
    "$$H_a:\t\\mu_1\\neq\\mu_2$$\n",
    "\n",
    "\n",
    "Test Statistic:\t$T=\\frac{Y_1−Y_2}{\\sqrt{s^2_1/N_1+s^2_2/N_2}}$\n",
    "\n",
    "where $N_1$ and $N_2$ are the sample sizes, $Y_1$ and $Y_2$ are the sample means, and $s^2_1$ and $s^2_2$ are the sample variances.\n",
    "\n",
    "If equal variances are assumed, then the formula reduces to: $T=\\frac{Y_1−Y_2}{s_{p}\\sqrt{1/N_1+1/N_2}}$\n",
    "\n",
    "where $s^2_p=\\frac{(N_1−1)s^2_1+(N_2−1)s^2_2}{N_1+N_2−2}$\n",
    "\n",
    "Significance Level: $\\alpha$.\n",
    "\n",
    "Critical Region: Reject the null hypothesis that the two means are equal if $|T| > t_{1-\\alpha/2$,ν}$\n",
    "\n",
    "where $t_{1-α/2,ν}$ is the **critical value** of the **t distribution** with ν degrees of freedom where\n",
    "$$ν=\\frac{(s^2_1/N_1+s^2_2/N_2)^2}{(s^2_1/N_1)^2/(N_1−1)+(s^2_2/N_2)^2/(N_2−1)}$$\n",
    "\n",
    "If equal variances are assumed, then $$ν = N_1 + N_2 - 2$$"
   ]
  },
  {
   "cell_type": "markdown",
   "source": [
    "## Confidence Intervals"
   ],
   "metadata": {
    "collapsed": false
   }
  },
  {
   "cell_type": "markdown",
   "source": [
    "--Theory for confidence intervals--\n",
    "\n",
    "Before diving in, keep in mind that the *mean of the population* (the thing we what to estimate) is a constant, there is no randomness about the number.\n",
    "\n",
    "The confidence interval is an estimator we use to estimate the value of population parameters. The interval will create a range that might contain the values. When we create the interval, we use a sample mean. Recall the central limit theorem, if we sample many times, the sample mean will be normally distributed.\n",
    "\n",
    "This proposes a range of plausible values for an unknown parameter (for example, the mean). The interval has an associated confidence level that the true parameter is in the proposed range. Given observations $x_{1},\\ldots ,x_{n}$ and a confidence level $\\gamma$ , a valid confidence interval has a $\\gamma$  probability of containing the true underlying parameter. "
   ],
   "metadata": {
    "collapsed": false
   }
  },
  {
   "cell_type": "markdown",
   "source": [
    "For the Student's t-distribution the interval whose endpoints are\n",
    "$$\\overline {X}_{n}\\pm A{\\frac {S_{n}}{\\sqrt {n}}}$$\n",
    "is a 90% confidence interval for $\\mu$, where $A$ is the \"95th percentile\" of this probability distribution, or $A=t_{(0.05,n-1)}$"
   ],
   "metadata": {
    "collapsed": false
   }
  },
  {
   "cell_type": "markdown",
   "source": [
    "Three ways to get them with the `scipy` module:\n",
    "1. `st.t.interval` correct also for small n\n",
    "2. `statsmodel.stats.api.DescrStatsW` correct also for small n\n",
    "3. `st.norm.interval` correct only in case of a normal distributed sample or n>30 (for large sample size the sample mean is normally distributed)"
   ],
   "metadata": {
    "collapsed": false
   }
  },
  {
   "cell_type": "markdown",
   "source": [
    "## Prediction Intervals"
   ],
   "metadata": {
    "collapsed": false
   }
  },
  {
   "cell_type": "markdown",
   "source": [
    "A prediction interval is a range that is likely to contain the response value of a single new observation given specified settings of the predictors in your model."
   ],
   "metadata": {
    "collapsed": false
   }
  },
  {
   "cell_type": "markdown",
   "source": [
    "## ANOVA"
   ],
   "metadata": {
    "collapsed": false
   }
  },
  {
   "cell_type": "markdown",
   "source": [
    "--Theory for confidence intervals--\n",
    "\n",
    "Before diving in, keep in mind that the *mean of the population* (the thing we what to estimate) is a constant, there is no randomness about the number.\n",
    "\n",
    "The confidence interval is an estimator we use to estimate the value of population parameters. The interval will create a range that might contain the values. When we create the interval, we use a sample mean. Recall the central limit theorem, if we sample many times, the sample mean will be normally distributed.\n",
    "\n",
    "This proposes a range of plausible values for an unknown parameter (for example, the mean). The interval has an associated confidence level that the true parameter is in the proposed range. Given observations $x_{1},\\ldots ,x_{n}$ and a confidence level $\\gamma$ , a valid confidence interval has a $\\gamma$  probability of containing the true underlying parameter. "
   ],
   "metadata": {
    "collapsed": false
   }
  },
  {
   "cell_type": "markdown",
   "source": [
    "For the Student's t-distribution the interval whose endpoints are\n",
    "$$\\overline {X}_{n}\\pm A{\\frac {S_{n}}{\\sqrt {n}}}$$\n",
    "is a 90% confidence interval for $\\mu$, where $A$ is the \"95th percentile\" of this probability distribution, or $A=t_{(0.05,n-1)}$"
   ],
   "metadata": {
    "collapsed": false
   }
  },
  {
   "cell_type": "markdown",
   "source": [
    "Three ways to get them with the `scipy` module:\n",
    "1. `st.t.interval` correct also for small n\n",
    "2. `statsmodel.stats.api.DescrStatsW` correct also for small n\n",
    "3. `st.norm.interval` correct only in case of a normal distributed sample or n>30 (for large sample size the sample mean is normally distributed)"
   ],
   "metadata": {
    "collapsed": false
   }
  },
  {
   "cell_type": "markdown",
   "source": [
    "## Prediction Intervals"
   ],
   "metadata": {
    "collapsed": false
   }
  },
  {
   "cell_type": "markdown",
   "source": [
    "A prediction interval is a range that is likely to contain the response value of a single new observation given specified settings of the predictors in your model."
   ],
   "metadata": {
    "collapsed": false
   }
  },
  {
   "cell_type": "markdown",
   "source": [
    "## ANOVA"
   ],
   "metadata": {
    "collapsed": false
   }
  },
  {
   "cell_type": "markdown",
   "source": [
    "--Theory for confidence intervals--\n",
    "\n",
    "Before diving in, keep in mind that the *mean of the population* (the thing we what to estimate) is a constant, there is no randomness about the number.\n",
    "\n",
    "The confidence interval is an estimator we use to estimate the value of population parameters. The interval will create a range that might contain the values. When we create the interval, we use a sample mean. Recall the central limit theorem, if we sample many times, the sample mean will be normally distributed.\n",
    "\n",
    "This proposes a range of plausible values for an unknown parameter (for example, the mean). The interval has an associated confidence level that the true parameter is in the proposed range. Given observations $x_{1},\\ldots ,x_{n}$ and a confidence level $\\gamma$ , a valid confidence interval has a $\\gamma$  probability of containing the true underlying parameter. "
   ],
   "metadata": {
    "collapsed": false
   }
  },
  {
   "cell_type": "markdown",
   "source": [
    "For the Student's t-distribution the interval whose endpoints are\n",
    "$$\\overline {X}_{n}\\pm A{\\frac {S_{n}}{\\sqrt {n}}}$$\n",
    "is a 90% confidence interval for $\\mu$, where $A$ is the \"95th percentile\" of this probability distribution, or $A=t_{(0.05,n-1)}$"
   ],
   "metadata": {
    "collapsed": false
   }
  },
  {
   "cell_type": "markdown",
   "source": [
    "Three ways to get them with the `scipy` module:\n",
    "1. `st.t.interval` correct also for small n\n",
    "2. `statsmodel.stats.api.DescrStatsW` correct also for small n\n",
    "3. `st.norm.interval` correct only in case of a normal distributed sample or n>30 (for large sample size the sample mean is normally distributed)"
   ],
   "metadata": {
    "collapsed": false
   }
  },
  {
   "cell_type": "markdown",
   "source": [
    "## Prediction Intervals"
   ],
   "metadata": {
    "collapsed": false
   }
  },
  {
   "cell_type": "markdown",
   "source": [
    "A prediction interval is a range that is likely to contain the response value of a single new observation given specified settings of the predictors in your model."
   ],
   "metadata": {
    "collapsed": false
   }
  },
  {
   "cell_type": "markdown",
   "source": [
    "## ANOVA"
   ],
   "metadata": {
    "collapsed": false
   }
  },
  {
   "cell_type": "markdown",
   "source": [
    "--Theory for confidence intervals--\n",
    "\n",
    "Before diving in, keep in mind that the *mean of the population* (the thing we what to estimate) is a constant, there is no randomness about the number.\n",
    "\n",
    "The confidence interval is an estimator we use to estimate the value of population parameters. The interval will create a range that might contain the values. When we create the interval, we use a sample mean. Recall the central limit theorem, if we sample many times, the sample mean will be normally distributed.\n",
    "\n",
    "This proposes a range of plausible values for an unknown parameter (for example, the mean). The interval has an associated confidence level that the true parameter is in the proposed range. Given observations $x_{1},\\ldots ,x_{n}$ and a confidence level $\\gamma$ , a valid confidence interval has a $\\gamma$  probability of containing the true underlying parameter. "
   ],
   "metadata": {
    "collapsed": false
   }
  },
  {
   "cell_type": "markdown",
   "source": [
    "For the Student's t-distribution the interval whose endpoints are\n",
    "$$\\overline {X}_{n}\\pm A{\\frac {S_{n}}{\\sqrt {n}}}$$\n",
    "is a 90% confidence interval for $\\mu$, where $A$ is the \"95th percentile\" of this probability distribution, or $A=t_{(0.05,n-1)}$"
   ],
   "metadata": {
    "collapsed": false
   }
  },
  {
   "cell_type": "markdown",
   "source": [
    "Three ways to get them with the `scipy` module:\n",
    "1. `st.t.interval` correct also for small n\n",
    "2. `statsmodel.stats.api.DescrStatsW` correct also for small n\n",
    "3. `st.norm.interval` correct only in case of a normal distributed sample or n>30 (for large sample size the sample mean is normally distributed)"
   ],
   "metadata": {
    "collapsed": false
   }
  },
  {
   "cell_type": "markdown",
   "source": [
    "## Prediction Intervals"
   ],
   "metadata": {
    "collapsed": false
   }
  },
  {
   "cell_type": "markdown",
   "source": [
    "A prediction interval is a range that is likely to contain the response value of a single new observation given specified settings of the predictors in your model."
   ],
   "metadata": {
    "collapsed": false
   }
  },
  {
   "cell_type": "markdown",
   "metadata": {},
   "source": [
    "## ANOVA"
   ]
  },
  {
   "cell_type": "markdown",
   "metadata": {},
   "source": [
    "--Theory for confidence intervals--\n",
    "\n",
    "Before diving in, keep in mind that the *mean of the population* (the thing we what to estimate) is a constant, there is no randomness about the number.\n",
    "\n",
    "The confidence interval is an estimator we use to estimate the value of population parameters. The interval will create a range that might contain the values. When we create the interval, we use a sample mean. Recall the central limit theorem, if we sample many times, the sample mean will be normally distributed.\n",
    "\n",
    "This proposes a range of plausible values for an unknown parameter (for example, the mean). The interval has an associated confidence level that the true parameter is in the proposed range. Given observations $x_{1},\\ldots ,x_{n}$ and a confidence level $\\gamma$ , a valid confidence interval has a $\\gamma$  probability of containing the true underlying parameter. "
   ]
  },
  {
   "cell_type": "markdown",
   "metadata": {},
   "source": [
    "For the Student's t-distribution the interval whose endpoints are\n",
    "$$\\overline {X}_{n}\\pm A{\\frac {S_{n}}{\\sqrt {n}}}$$\n",
    "is a 90% confidence interval for $\\mu$, where $A$ is the \"95th percentile\" of this probability distribution, or $A=t_{(0.05,n-1)}$"
   ]
  },
  {
   "cell_type": "markdown",
   "metadata": {},
   "source": [
    "Three ways to get them with the `scipy` module:\n",
    "1. `st.t.interval` correct also for small n\n",
    "2. `statsmodel.stats.api.DescrStatsW` correct also for small n\n",
    "3. `st.norm.interval` correct only in case of a normal distributed sample or n>30 (for large sample size the sample mean is normally distributed)"
   ]
  },
  {
   "cell_type": "markdown",
   "metadata": {},
   "source": [
    "## Prediction Intervals"
   ]
  },
  {
   "cell_type": "markdown",
   "metadata": {},
   "source": [
    "A prediction interval is a range that is likely to contain the response value of a single new observation given specified settings of the predictors in your model."
   ]
  },
  {
   "cell_type": "markdown",
   "metadata": {},
   "source": [
    "## ANOVA"
   ]
  },
  {
   "cell_type": "code",
   "execution_count": 39,
   "metadata": {},
   "outputs": [
    {
     "data": {
      "text/plain": [
       "F_onewayResult(statistic=9.876212856246399, pvalue=0.0017297768346056126)"
      ]
     },
     "execution_count": 39,
     "metadata": {},
     "output_type": "execute_result"
    }
   ],
   "source": [
    "males = x_train[x_train['Sex']=='male']['Age']\n",
    "females = x_train[x_train['Sex']=='female']['Age']\n",
    "stats.f_oneway(males, females)"
   ]
  },
  {
   "cell_type": "markdown",
   "metadata": {},
   "source": [
    "The pvalue is low: there is stastical significance to reject the null hypothesis that the males and females on the Titanic had the same average age.\n",
    "\n",
    "Let's do the same (one-way anova) with the survival variable"
   ]
  },
  {
   "cell_type": "code",
   "execution_count": 42,
   "metadata": {},
   "outputs": [
    {
     "data": {
      "text/plain": [
       "F_onewayResult(statistic=5.556922786236765, pvalue=0.018623643214932786)"
      ]
     },
     "execution_count": 42,
     "metadata": {},
     "output_type": "execute_result"
    }
   ],
   "source": [
    "surv = x_train[x_train['Survived']==1]['Age']\n",
    "dead = x_train[x_train['Survived']==0]['Age']\n",
    "stats.f_oneway(surv, dead)"
   ]
  },
  {
   "cell_type": "markdown",
   "metadata": {},
   "source": [
    "The pvalue here is bigger but not big enough to accept the null hypothesis.\n",
    "\n",
    "From the graphs above we should find two populations with the same mean..."
   ]
  },
  {
   "cell_type": "code",
   "execution_count": 45,
   "metadata": {},
   "outputs": [
    {
     "data": {
      "text/plain": [
       "F_onewayResult(statistic=3.4651655206187297, pvalue=0.06286997109557806)"
      ]
     },
     "execution_count": 45,
     "metadata": {},
     "output_type": "execute_result"
    }
   ],
   "source": [
    "# Since we are lazy, we create two population with a very similar mean and test them\n",
    "np.random.seed(123)\n",
    "x1 = np.random.normal(loc=0, scale=1, size=1000)\n",
    "x2 = np.random.normal(loc=0.0001, scale=1, size=500)\n",
    "stats.f_oneway(x1, x2)"
   ]
  },
  {
   "cell_type": "markdown",
   "metadata": {},
   "source": [
    "Finally! The two samples share the same mean."
   ]
  },
  {
   "cell_type": "markdown",
   "metadata": {},
   "source": [
    "### Logistic Regression"
   ]
  },
  {
   "cell_type": "code",
   "execution_count": 79,
   "metadata": {},
   "outputs": [],
   "source": [
    "# I want to try to draw a ROC Curve, so I need a logistic regression\n",
    "x_lr = x_train.loc[:,['Fare']]\n",
    "y_lr = x_train.Survived"
   ]
  },
  {
   "cell_type": "code",
   "execution_count": 116,
   "metadata": {},
   "outputs": [],
   "source": [
    "from sklearn.linear_model import LogisticRegression\n",
    "from sklearn.metrics import classification_report, confusion_matrix\n",
    "from sklearn.metrics import roc_curve, roc_auc_score"
   ]
  },
  {
   "cell_type": "code",
   "execution_count": 132,
   "metadata": {},
   "outputs": [
    {
     "data": {
      "text/plain": [
       "LogisticRegression(C=1.0, class_weight=None, dual=False, fit_intercept=True,\n",
       "                   intercept_scaling=1, l1_ratio=None, max_iter=100,\n",
       "                   multi_class='warn', n_jobs=None, penalty='l2',\n",
       "                   random_state=None, solver='lbfgs', tol=0.0001, verbose=0,\n",
       "                   warm_start=False)"
      ]
     },
     "execution_count": 132,
     "metadata": {},
     "output_type": "execute_result"
    }
   ],
   "source": [
    "model = LogisticRegression(solver='lbfgs')\n",
    "model.fit(x_lr, y_lr)"
   ]
  },
  {
   "cell_type": "code",
   "execution_count": 133,
   "metadata": {},
   "outputs": [
    {
     "data": {
      "text/plain": [
       "array([0, 1], dtype=int64)"
      ]
     },
     "execution_count": 133,
     "metadata": {},
     "output_type": "execute_result"
    }
   ],
   "source": [
    "model.classes_"
   ]
  },
  {
   "cell_type": "code",
   "execution_count": 126,
   "metadata": {},
   "outputs": [],
   "source": [
    "y_hat = model.predict_proba(x_lr)[:,1] # probability of Survival\n",
    "y_pred = model.predict(x_lr)"
   ]
  },
  {
   "cell_type": "code",
   "execution_count": 131,
   "metadata": {},
   "outputs": [
    {
     "data": {
      "text/plain": [
       "array([[0.69659638, 0.30340362],\n",
       "       [0.46457191, 0.53542809],\n",
       "       [0.69442404, 0.30557596],\n",
       "       ...,\n",
       "       [0.64220704, 0.35779296],\n",
       "       [0.61902646, 0.38097354],\n",
       "       [0.69498808, 0.30501192]])"
      ]
     },
     "execution_count": 131,
     "metadata": {},
     "output_type": "execute_result"
    }
   ],
   "source": [
    "model.predict_proba(x_lr)[0], y_pred[0], y_lr[0]\n",
    "model.predict_proba(x_lr)"
   ]
  },
  {
   "cell_type": "code",
   "execution_count": 122,
   "metadata": {},
   "outputs": [
    {
     "name": "stdout",
     "output_type": "stream",
     "text": [
      "              precision    recall  f1-score   support\n",
      "\n",
      "           0       0.66      0.93      0.77       549\n",
      "           1       0.68      0.24      0.35       342\n",
      "\n",
      "    accuracy                           0.67       891\n",
      "   macro avg       0.67      0.59      0.56       891\n",
      "weighted avg       0.67      0.67      0.61       891\n",
      "\n"
     ]
    }
   ],
   "source": [
    "print(classification_report(y_lr, y_pred))"
   ]
  },
  {
   "cell_type": "code",
   "execution_count": 123,
   "metadata": {},
   "outputs": [
    {
     "name": "stdout",
     "output_type": "stream",
     "text": [
      "[[511  38]\n",
      " [260  82]]\n"
     ]
    }
   ],
   "source": [
    "print(confusion_matrix(y_lr, y_pred))"
   ]
  },
  {
   "cell_type": "code",
   "execution_count": 124,
   "metadata": {},
   "outputs": [],
   "source": [
    "fpr, tpr, _ = roc_curve(y_lr, y_hat)\n",
    "roc_auc = roc_auc_score(y_lr, y_hat)"
   ]
  },
  {
   "cell_type": "code",
   "execution_count": 134,
   "metadata": {},
   "outputs": [
    {
     "data": {
      "image/png": "[encoded data removed]",
      "text/plain": [
       "<Figure size 432x288 with 1 Axes>"
      ]
     },
     "metadata": {
      "needs_background": "light"
     },
     "output_type": "display_data"
    }
   ],
   "source": [
    "# Plot the ROC Curve\n",
    "plt.figure()\n",
    "lw = 2\n",
    "plt.plot(fpr, tpr, color='darkorange',\n",
    "         lw=lw, label='ROC curve (area = %0.2f)' % roc_auc)\n",
    "plt.plot([0, 1], [0, 1], color='navy', lw=lw, linestyle='--')\n",
    "plt.xlim([0.0, 1.0])\n",
    "plt.ylim([0.0, 1.05])\n",
    "plt.xlabel('False Positive Rate')\n",
    "plt.ylabel('True Positive Rate')\n",
    "plt.title('ROC Curve')\n",
    "plt.legend(loc=\"lower right\")\n",
    "plt.show()"
   ]
  },
  {
   "cell_type": "markdown",
   "metadata": {},
   "source": [
    "### References:\n",
    "1. pandas https://www.kaggle.com/inturiyam/exploring-titanic-data-using-pandas-dataframes/data\n",
    "2. confidence intervals https://towardsdatascience.com/illustration-with-python-confidence-interval-ee4736cc3dc2\n",
    "3. chi-squared and why n-1 dof https://it.wikipedia.org/wiki/Test_chi_quadrato\n",
    "4. ROC Curve in Python https://scikit-learn.org/stable/auto_examples/model_selection/plot_roc.html"
   ]
  }
 ],
 "metadata": {
  "kernelspec": {
   "display_name": "Python 3",
   "language": "python",
   "name": "python3"
  },
  "language_info": {
   "codemirror_mode": {
    "name": "ipython",
    "version": 3
   },
   "file_extension": ".py",
   "mimetype": "text/x-python",
   "name": "python",
   "nbconvert_exporter": "python",
   "pygments_lexer": "ipython3",
   "version": "3.7.3"
  },
  "pycharm": {
   "stem_cell": {
    "cell_type": "raw",
    "source": [],
    "metadata": {
     "collapsed": false
    }
   }
  }
 },
 "nbformat": 4,
 "nbformat_minor": 1
}