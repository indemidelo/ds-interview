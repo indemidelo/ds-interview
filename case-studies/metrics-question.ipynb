{
 "cells": [
  {
   "cell_type": "markdown",
   "metadata": {},
   "source": [
    "# How to answer a metrics question"
   ]
  },
  {
   "cell_type": "markdown",
   "metadata": {},
   "source": [
    "1. **Describe the feature**\n",
    "\n",
    "Explain your understanding of the feature, what problem it solves, and how it solves it."
   ]
  },
  {
   "cell_type": "markdown",
   "metadata": {},
   "source": [
    "2. **Define the goal of the features**\n",
    "\n",
    "In a metrics question you are measuring the success of a feature in achieving a specific goal; hence, it is crucial to have clarity on what that goal is. \n",
    "\n",
    "If the feature goal is explained as part of the interview question (e.g. How do you measure the success of Reactions in driving engagement in Facebook?), you can skip this step.\n"
   ]
  },
  {
   "cell_type": "markdown",
   "metadata": {},
   "source": [
    "3. **Walk through the customer journey**\n",
    "\n",
    "Walk through the customer journey from the beginning to the end of the interaction with the feature to demonstrate your understanding of the customer experience."
   ]
  },
  {
   "cell_type": "markdown",
   "metadata": {},
   "source": [
    "4. **Map and quantify (through metrics) user behaviours in the customer journey**\n",
    "\n",
    "\n",
    "Below is a list of all the customer journey phases a user can go through:\n",
    "* *Awareness* $\\to$ If users are not aware that a feature exists, they will not use it\n",
    "* *Acquisition* $\\to$ Indication of the level of success of the feature in gaining the attention of its users\n",
    "* *Activation* $\\to$ If you can’t convert acquired users into activated users, it is an indication that the highly interested users are either getting discouraged from activating their accounts or there are barriers to activating them\n",
    "* *Engagement* $\\to$ What makes new users valuable to the organization and ecosystem of the product \n",
    "* *Retention* $\\to$ It is often harder to obtain a new customer than it is to retain an existing customer\n",
    "* *Monetization*\n",
    "* *Referral* $\\to$ If users like a product, they are willing to refer it to their friends and family"
   ]
  },
  {
   "cell_type": "markdown",
   "metadata": {},
   "source": [
    "5. **Evaluate your metrics**\n",
    "\n",
    "Now that you have gathered a list of metrics that impact the goal, evaluate them based on some meaningful criteria such as \n",
    "* Reach \n",
    "* Impact\n",
    "* Confidence\n",
    "* Effort. \n",
    "\n",
    "**Reach** represents the number of people that are affected by the new feature. \n",
    "\n",
    "**Impact** represents the size of the impact the feature has on an individual user. \n",
    "\n",
    "**Confidence** represents your level of confidence in your estimates. \n",
    "\n",
    "**Effort** represents the level of effort required to measure the metric."
   ]
  },
  {
   "cell_type": "markdown",
   "metadata": {},
   "source": [
    "6. **Prioritize the metrics**\n",
    "\n",
    "Prioritize your metrics based on the results of your evaluation in the step 6."
   ]
  },
  {
   "cell_type": "markdown",
   "metadata": {},
   "source": [
    "7. **Summarize your answer**\n",
    "\n",
    "Complete your answer by providing a quick summary of the feature’s goal and the key metrics that you will use to measure the success of the feature that you are evaluating.\n"
   ]
  },
  {
   "cell_type": "markdown",
   "metadata": {},
   "source": [
    "## References\n",
    "1. https://www.productmanagementexercises.com/how-to-answer-a-metrics-question\n",
    "2. Example of metric question: https://www.interviewquery.com/blog-facebook-data-science-interview-questions-and-solutions/"
   ]
  }
 ],
 "metadata": {
  "kernelspec": {
   "display_name": "Python 3",
   "language": "python",
   "name": "python3"
  },
  "language_info": {
   "codemirror_mode": {
    "name": "ipython",
    "version": 3
   },
   "file_extension": ".py",
   "mimetype": "text/x-python",
   "name": "python",
   "nbconvert_exporter": "python",
   "pygments_lexer": "ipython3",
   "version": "3.7.3"
  }
 },
 "nbformat": 4,
 "nbformat_minor": 2
}
