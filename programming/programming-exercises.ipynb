{
 "cells": [
  {
   "cell_type": "markdown",
   "metadata": {},
   "source": [
    "## Count-and-say\n",
    "The count-and-say sequence is the sequence of integers beginning as follows: 1, 11, 21, 1211, 111221, ...\n",
    "\n",
    "`1 is read off as \"one 1\" or 11.\n",
    "11 is read off as \"two 1s\" or 21.\n",
    "21 is read off as \"one 2, then one 1\" or 1211.`\n",
    "\n",
    "\n",
    "Given an integer `n`, generate the nth sequence."
   ]
  },
  {
   "cell_type": "code",
   "execution_count": 39,
   "metadata": {},
   "outputs": [],
   "source": [
    "n = 5\n",
    "start = \"1\""
   ]
  },
  {
   "cell_type": "code",
   "execution_count": 40,
   "metadata": {},
   "outputs": [],
   "source": [
    "def split_n_in_counts(n):\n",
    "    current = None\n",
    "    count = 0\n",
    "    result = []\n",
    "    for j in str(n):\n",
    "        if j != current:\n",
    "            if current != None:\n",
    "                result.append((current, count))\n",
    "            current = j\n",
    "            count = 0\n",
    "        count += 1\n",
    "    if current:\n",
    "        result.append((current, count))\n",
    "    output = ''\n",
    "    for j in result:\n",
    "        output += f'{j[1]}{j[0]}'\n",
    "    return output"
   ]
  },
  {
   "cell_type": "code",
   "execution_count": 42,
   "metadata": {},
   "outputs": [
    {
     "name": "stdout",
     "output_type": "stream",
     "text": [
      "13112221\n",
      "1113213211\n",
      "31131211131221\n",
      "13211311123113112211\n",
      "11131221133112132113212221\n"
     ]
    }
   ],
   "source": [
    "for _ in range(n):\n",
    "    new = split_n_in_counts(start)\n",
    "    print(new)\n",
    "    start = new"
   ]
  },
  {
   "cell_type": "markdown",
   "metadata": {},
   "source": [
    "## One edit distance\n",
    "Given two strings S and T, determine if they are both one edit distance apart."
   ]
  },
  {
   "cell_type": "code",
   "execution_count": 156,
   "metadata": {},
   "outputs": [],
   "source": [
    "S = 'ciao1s'\n",
    "T = 'ciao1s'"
   ]
  },
  {
   "cell_type": "code",
   "execution_count": 157,
   "metadata": {},
   "outputs": [],
   "source": [
    "def one_edit_distance(S, T):\n",
    "    \n",
    "    j_s, j_t = 0, 0\n",
    "    count = 0\n",
    "    \n",
    "    if abs(len(S) - len(T)) > 1:\n",
    "        return False\n",
    "    \n",
    "    while (j_s < len(S)) & (j_t < len(T)):\n",
    "        \n",
    "        if count > 1:\n",
    "            return False\n",
    "        \n",
    "        if S[j_s] == T[j_t]:\n",
    "            j_s += 1\n",
    "            j_t += 1\n",
    "        \n",
    "        elif len(S) > len(T):\n",
    "            j_s += 1\n",
    "            count += 1\n",
    "        elif len(S) < len(T):\n",
    "            j_t += 1\n",
    "            count += 1\n",
    "        else:\n",
    "            j_s += 1\n",
    "            j_t += 1\n",
    "            count += 1\n",
    "    \n",
    "    if (j_s < len(S)) | (j_t < len(T)): # did I compare all the characters in the two strings?\n",
    "        count += 1\n",
    "    \n",
    "    if count == 1:\n",
    "        return True\n",
    "    \n",
    "    return False"
   ]
  },
  {
   "cell_type": "code",
   "execution_count": 158,
   "metadata": {},
   "outputs": [
    {
     "name": "stdout",
     "output_type": "stream",
     "text": [
      "0\n"
     ]
    },
    {
     "data": {
      "text/plain": [
       "False"
      ]
     },
     "execution_count": 158,
     "metadata": {},
     "output_type": "execute_result"
    }
   ],
   "source": [
    "one_edit_distance(S, T)"
   ]
  },
  {
   "cell_type": "markdown",
   "metadata": {},
   "source": [
    "## LeetCode – Palindrome Number (Java)\n",
    " \n",
    "Determine whether an integer is a palindrome. Do this without extra space."
   ]
  },
  {
   "cell_type": "code",
   "execution_count": 160,
   "metadata": {},
   "outputs": [
    {
     "data": {
      "text/plain": [
       "45"
      ]
     },
     "execution_count": 160,
     "metadata": {},
     "output_type": "execute_result"
    }
   ],
   "source": [
    "x = 12345\n",
    "x % 100"
   ]
  },
  {
   "cell_type": "code",
   "execution_count": 161,
   "metadata": {},
   "outputs": [
    {
     "data": {
      "text/plain": [
       "345"
      ]
     },
     "execution_count": 161,
     "metadata": {},
     "output_type": "execute_result"
    }
   ],
   "source": [
    "x % 1000"
   ]
  },
  {
   "cell_type": "code",
   "execution_count": 162,
   "metadata": {},
   "outputs": [
    {
     "data": {
      "text/plain": [
       "300"
      ]
     },
     "execution_count": 162,
     "metadata": {},
     "output_type": "execute_result"
    }
   ],
   "source": [
    "x%1000 - x%100"
   ]
  },
  {
   "cell_type": "code",
   "execution_count": 163,
   "metadata": {},
   "outputs": [
    {
     "data": {
      "text/plain": [
       "5"
      ]
     },
     "execution_count": 163,
     "metadata": {},
     "output_type": "execute_result"
    }
   ],
   "source": [
    "x % 10"
   ]
  }
 ],
 "metadata": {
  "kernelspec": {
   "display_name": "Python 3",
   "language": "python",
   "name": "python3"
  },
  "language_info": {
   "codemirror_mode": {
    "name": "ipython",
    "version": 3
   },
   "file_extension": ".py",
   "mimetype": "text/x-python",
   "name": "python",
   "nbconvert_exporter": "python",
   "pygments_lexer": "ipython3",
   "version": "3.7.3"
  }
 },
 "nbformat": 4,
 "nbformat_minor": 2
}
