{
 "cells": [
  {
   "cell_type": "markdown",
   "metadata": {
    "collapsed": true
   },
   "source": [
    "# SQL functions"
   ]
  },
  {
   "cell_type": "markdown",
   "metadata": {},
   "source": [
    "### Aliases"
   ]
  },
  {
   "cell_type": "markdown",
   "metadata": {},
   "source": [
    "The primary purpose of table aliases, aside from cases where they are required, is to make SQL queries *easier to read and understand*."
   ]
  },
  {
   "cell_type": "markdown",
   "metadata": {},
   "source": [
    "```mysql\n",
    "SELECT numbers.number, Coalesce(Names.NameForFrequency,'frequently') AS HowManyTimes  \n",
    "FROM \n",
    "    (VALUES(0),(1),(2),(3),(4),(5)) AS numbers(number)\n",
    "LEFT OUTER join\n",
    "    (VALUES(0,'never'),(1,'once'),(2,'twice'),(3,'thrice')) AS Names(number,NameForFrequency)\n",
    "ON numbers.number=Names.number\n",
    "```"
   ]
  },
  {
   "cell_type": "markdown",
   "metadata": {},
   "source": [
    "Aliases are required when:\n",
    "- The name of the base table has **illegal characters** in it. ‘@’ isn’t legal at the start of a table name qualifier, so table variables are a problem. For example, if you don’t give a table variable an alias, then you must provide the square bracket delimiters to refer to it by its full name. Of course, if the table really has illegal characters, then a table alias provides a blessed relief from those pesky square brackets.\n",
    "- you are referencing a **table source that doesn’t have a name**, such as a derived table or rowset function\n",
    "- you are using a named table source, such as a table, view or table-valued function, **more than once in the same query**\n",
    "    "
   ]
  },
  {
   "cell_type": "markdown",
   "metadata": {},
   "source": [
    "---\n",
    "### Qualifiers"
   ]
  },
  {
   "cell_type": "markdown",
   "metadata": {},
   "source": [
    "There are many qualifiers in SQL, which can include database, schema, table, or view. You can think of a qualifier as being similar to a *namespace*. As such, the qualifier helps identify a database entity because, within a namespace, no two objects can have the same name."
   ]
  },
  {
   "cell_type": "markdown",
   "metadata": {},
   "source": [
    "Rules for qualifier names are similar to those of columns, but can differ based on the specific database product.\n",
    "Here are some examples of valid qualifiers:\n",
    "- `db_name.tbl_name.col_name`\n",
    "- `tbl_name`\n",
    "- \\`db_name\\`.\\`tbl_name\\`.\\`col_name\\`\n",
    "- \\`db_name\\` . \\`tbl_name\\`\n",
    "- `db_name`. `tbl_name`"
   ]
  },
  {
   "cell_type": "markdown",
   "metadata": {},
   "source": [
    "---\n",
    "### Views"
   ]
  },
  {
   "cell_type": "markdown",
   "metadata": {},
   "source": [
    "A view is a *SQL statement that is stored in the database with an associated name*. A view is actually a composition of a table in the form of a predefined SQL query.\n",
    "\n",
    "Views, which are a type of virtual tables allow users to do the following:\n",
    "- Structure data in a way that users or classes of users find natural or intuitive\n",
    "- Restrict access to the data in such a way that a user can see and (sometimes) modify exactly what they need and no more.\n",
    "- Summarize data from various tables which can be used to generate reports.\n",
    "\n",
    "Database views are created using the **CREATE VIEW** statement. Views can be created from a single table, multiple tables or another view.\n",
    "\n",
    "The basic **CREATE VIEW** syntax is as follows:\n",
    "\n",
    "```mysql\n",
    "CREATE VIEW view_name AS\n",
    "SELECT column1, column2.....\n",
    "FROM table_name\n",
    "WHERE [condition];```"
   ]
  },
  {
   "cell_type": "markdown",
   "metadata": {},
   "source": [
    "Following is an example to create a view from the CUSTOMERS table. This view would be used to have customer name and age from the CUSTOMERS table.\n",
    "\n",
    "```mysql\n",
    "SQL > CREATE VIEW CUSTOMERS_VIEW AS\n",
    "SELECT name, age\n",
    "FROM  CUSTOMERS;\n",
    "```\n",
    "Now, you can query CUSTOMERS_VIEW in a similar way as you query an actual table. Following is an example for the same.\n",
    "```mysql\n",
    "SELECT * FROM CUSTOMERS_VIEW;\n",
    "```"
   ]
  },
  {
   "cell_type": "markdown",
   "metadata": {},
   "source": [
    "The **WITH CHECK OPTION** is a CREATE VIEW statement option. The purpose of the **WITH CHECK OPTION** is to ensure that all UPDATE and INSERTs satisfy the condition(s) in the view definition.\n",
    "\n",
    "If they do not satisfy the condition(s), the UPDATE or INSERT returns an error.\n",
    "\n",
    "The following code block has an example of creating same view CUSTOMERS_VIEW with the **WITH CHECK OPTION**.\n",
    "\n",
    "```mysql\n",
    "CREATE VIEW CUSTOMERS_VIEW AS\n",
    "SELECT name, age\n",
    "FROM  CUSTOMERS\n",
    "WHERE age IS NOT NULL\n",
    "WITH CHECK OPTION;\n",
    "```\n",
    "The **WITH CHECK OPTION** in this case should deny the entry of any NULL values in the view's AGE column, because the view is defined by data that does not have a NULL value in the AGE column."
   ]
  },
  {
   "cell_type": "markdown",
   "metadata": {},
   "source": [
    "A view can be:\n",
    "- updated under certain conditions,\n",
    "- dropped"
   ]
  },
  {
   "cell_type": "markdown",
   "metadata": {},
   "source": [
    "---\n",
    "### The TABLE variable"
   ]
  },
  {
   "cell_type": "markdown",
   "metadata": {},
   "source": [
    "The **table variable** is a special type of the local variable that helps to store data temporarily, similar to the temp table in SQL Server. In fact, the **table variable** provides all the properties of the local variable, but the local variables have some limitations, unlike temp or regular tables.\n",
    "\n",
    "`<To be completed>`"
   ]
  },
  {
   "cell_type": "markdown",
   "metadata": {},
   "source": [
    "---\n",
    "### WINDOW functions"
   ]
  },
  {
   "cell_type": "markdown",
   "metadata": {},
   "source": [
    "Use this link to refresh the key concepts: https://www.windowfunctions.com/questions/over/"
   ]
  },
  {
   "cell_type": "markdown",
   "metadata": {},
   "source": [
    "**Window functions** perform calculations on a set of rows that are related together. But, unlike the aggregate functions, windowing functions do not collapse the result of the rows into a single value. Instead, all the rows maintain their original identity and the calculated result is returned for every row.\n",
    "\n",
    "For example, if I were to display the total salary of employees along with every row value, it would look something like this:\n",
    "```mysql\n",
    "SELECT *,\n",
    "SUM(salary) OVER() as total_salary\n",
    "FROM emp;\n",
    "```\n",
    "The **OVER** clause signifies a window of rows over which a window function is applied. It can be used with:\n",
    "- aggregate functions, like we have used with the SUM function here, thereby turning it into a window function \n",
    "- non-aggregate functions that are only used as window functions\n",
    "\n",
    "The syntax for defining a simple window function that outputs the same value for all rows is as follows:\n",
    "\n",
    "<center> window_function_name(<expression>) OVER ( ) </center>"
   ]
  },
  {
   "cell_type": "markdown",
   "metadata": {},
   "source": [
    "The **PARTITION BY** clause is used in conjunction with the OVER clause. It breaks up the rows into different partitions. These partitions are then acted upon by the window function.\n",
    "\n",
    "For example, to display the total salary per job category for all the rows we would have to modify our original SQL query as follows:\n",
    "```mysql\n",
    "SELECT *,\n",
    "SUM(salary) OVER(PARTITION BY job) as total_job_salary\n",
    "from exp;\n",
    "```\n",
    "The *total_job_salary* column depicts the sum of sales for that specific job category and not for the entire table.\n",
    "The syntax for defining window function for the partition of rows is as follows:\n",
    "<center>window_function_name(<expression>) OVER (<partition_by_clause>)</center>"
   ]
  },
  {
   "cell_type": "markdown",
   "metadata": {},
   "source": [
    "We know that to arrange rows in a table, we can use the **ORDER BY** clause. So, to arrange rows within each partition, we have to modify the **OVER** clause with the **ORDER BY** clause.\n",
    "```mysql\n",
    "SELECT *,\n",
    "SUM(salary) OVER(PARTITION BY job ORDER BY salary DESC) as total_job_salary\n",
    "from exp;\n",
    "```\n",
    "The rows have been partitioned as per their job category as indicated by the `job` column. The `salary` column has been ordered in descending order and the `ordered_job_salary` column depicts the **running total** of the job category (starting over after every partition).\n",
    "\n",
    "So, the syntax for defining window function for the partition of rows and arranging them in order is as follows:\n",
    "<center>window_function_name(<expression>) OVER (<partition_by_clause> <order_clause>)</center>"
   ]
  },
  {
   "cell_type": "markdown",
   "metadata": {},
   "source": [
    "Bibliography:\n",
    "- Aliases: https://www.red-gate.com/hub/product-learning/sql-prompt/using-aliases-in-sql-prompt\n",
    "- Qualifiers: https://www.quora.com/What-are-the-qualifiers-in-SQL-and-how-should-I-use-them\n",
    "- Views: https://www.tutorialspoint.com/sql/sql-using-views.htm\n",
    "- The TABLE variable: https://www.sqlshack.com/the-table-variable-in-sql-server/\n",
    "- Window functions: https://www.analyticsvidhya.com/blog/2020/12/window-function-a-must-know-sql-concept/",
    "- Window functions - execises: https://www.windowfunctions.com/questions/over/"
   ]
  }
 ],
 "metadata": {
  "kernelspec": {
   "display_name": "Python 3",
   "language": "python",
   "name": "python3"
  },
  "language_info": {
   "codemirror_mode": {
    "name": "ipython",
    "version": 3
   },
   "file_extension": ".py",
   "mimetype": "text/x-python",
   "name": "python",
   "nbconvert_exporter": "python",
   "pygments_lexer": "ipython3",
   "version": "3.7.3"
  }
 },
 "nbformat": 4,
 "nbformat_minor": 1
}
